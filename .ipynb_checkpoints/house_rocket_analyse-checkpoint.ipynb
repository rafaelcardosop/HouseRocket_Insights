{
 "cells": [
  {
   "cell_type": "markdown",
   "id": "658f941b",
   "metadata": {},
   "source": [
    "# 1. Bibliotecas"
   ]
  },
  {
   "cell_type": "code",
   "execution_count": 50,
   "id": "5c7a9e67",
   "metadata": {
    "ExecuteTime": {
     "end_time": "2022-08-18T01:40:23.462509Z",
     "start_time": "2022-08-18T01:40:23.443551Z"
    }
   },
   "outputs": [],
   "source": [
    "import pandas as pd\n",
    "import numpy as np\n",
    "from matplotlib import pyplot as plt\n",
    "import seaborn as sns"
   ]
  },
  {
   "cell_type": "markdown",
   "id": "d19a07c9",
   "metadata": {},
   "source": [
    "### 1.1 Configurações"
   ]
  },
  {
   "cell_type": "code",
   "execution_count": 51,
   "id": "e7c24508",
   "metadata": {
    "ExecuteTime": {
     "end_time": "2022-08-18T01:40:23.478466Z",
     "start_time": "2022-08-18T01:40:23.465493Z"
    }
   },
   "outputs": [],
   "source": [
    "#Retirar notações cientificas\n",
    "pd.set_option('display.float_format', lambda x: '%.2f' % x)"
   ]
  },
  {
   "cell_type": "markdown",
   "id": "f4aca5dd",
   "metadata": {},
   "source": [
    "# 2. Extração"
   ]
  },
  {
   "cell_type": "code",
   "execution_count": 52,
   "id": "cd7b75dc",
   "metadata": {
    "ExecuteTime": {
     "end_time": "2022-08-18T01:40:23.556996Z",
     "start_time": "2022-08-18T01:40:23.480454Z"
    },
    "scrolled": true
   },
   "outputs": [
    {
     "data": {
      "text/html": [
       "<div>\n",
       "<style scoped>\n",
       "    .dataframe tbody tr th:only-of-type {\n",
       "        vertical-align: middle;\n",
       "    }\n",
       "\n",
       "    .dataframe tbody tr th {\n",
       "        vertical-align: top;\n",
       "    }\n",
       "\n",
       "    .dataframe thead th {\n",
       "        text-align: right;\n",
       "    }\n",
       "</style>\n",
       "<table border=\"1\" class=\"dataframe\">\n",
       "  <thead>\n",
       "    <tr style=\"text-align: right;\">\n",
       "      <th></th>\n",
       "      <th>id</th>\n",
       "      <th>date</th>\n",
       "      <th>price</th>\n",
       "      <th>bedrooms</th>\n",
       "      <th>bathrooms</th>\n",
       "      <th>sqft_living</th>\n",
       "      <th>sqft_lot</th>\n",
       "      <th>floors</th>\n",
       "      <th>waterfront</th>\n",
       "      <th>view</th>\n",
       "      <th>...</th>\n",
       "      <th>grade</th>\n",
       "      <th>sqft_above</th>\n",
       "      <th>sqft_basement</th>\n",
       "      <th>yr_built</th>\n",
       "      <th>yr_renovated</th>\n",
       "      <th>zipcode</th>\n",
       "      <th>lat</th>\n",
       "      <th>long</th>\n",
       "      <th>sqft_living15</th>\n",
       "      <th>sqft_lot15</th>\n",
       "    </tr>\n",
       "  </thead>\n",
       "  <tbody>\n",
       "    <tr>\n",
       "      <th>0</th>\n",
       "      <td>7129300520</td>\n",
       "      <td>20141013T000000</td>\n",
       "      <td>221900.00</td>\n",
       "      <td>3</td>\n",
       "      <td>1.00</td>\n",
       "      <td>1180</td>\n",
       "      <td>5650</td>\n",
       "      <td>1.00</td>\n",
       "      <td>0</td>\n",
       "      <td>0</td>\n",
       "      <td>...</td>\n",
       "      <td>7</td>\n",
       "      <td>1180</td>\n",
       "      <td>0</td>\n",
       "      <td>1955</td>\n",
       "      <td>0</td>\n",
       "      <td>98178</td>\n",
       "      <td>47.51</td>\n",
       "      <td>-122.26</td>\n",
       "      <td>1340</td>\n",
       "      <td>5650</td>\n",
       "    </tr>\n",
       "    <tr>\n",
       "      <th>1</th>\n",
       "      <td>6414100192</td>\n",
       "      <td>20141209T000000</td>\n",
       "      <td>538000.00</td>\n",
       "      <td>3</td>\n",
       "      <td>2.25</td>\n",
       "      <td>2570</td>\n",
       "      <td>7242</td>\n",
       "      <td>2.00</td>\n",
       "      <td>0</td>\n",
       "      <td>0</td>\n",
       "      <td>...</td>\n",
       "      <td>7</td>\n",
       "      <td>2170</td>\n",
       "      <td>400</td>\n",
       "      <td>1951</td>\n",
       "      <td>1991</td>\n",
       "      <td>98125</td>\n",
       "      <td>47.72</td>\n",
       "      <td>-122.32</td>\n",
       "      <td>1690</td>\n",
       "      <td>7639</td>\n",
       "    </tr>\n",
       "    <tr>\n",
       "      <th>2</th>\n",
       "      <td>5631500400</td>\n",
       "      <td>20150225T000000</td>\n",
       "      <td>180000.00</td>\n",
       "      <td>2</td>\n",
       "      <td>1.00</td>\n",
       "      <td>770</td>\n",
       "      <td>10000</td>\n",
       "      <td>1.00</td>\n",
       "      <td>0</td>\n",
       "      <td>0</td>\n",
       "      <td>...</td>\n",
       "      <td>6</td>\n",
       "      <td>770</td>\n",
       "      <td>0</td>\n",
       "      <td>1933</td>\n",
       "      <td>0</td>\n",
       "      <td>98028</td>\n",
       "      <td>47.74</td>\n",
       "      <td>-122.23</td>\n",
       "      <td>2720</td>\n",
       "      <td>8062</td>\n",
       "    </tr>\n",
       "    <tr>\n",
       "      <th>3</th>\n",
       "      <td>2487200875</td>\n",
       "      <td>20141209T000000</td>\n",
       "      <td>604000.00</td>\n",
       "      <td>4</td>\n",
       "      <td>3.00</td>\n",
       "      <td>1960</td>\n",
       "      <td>5000</td>\n",
       "      <td>1.00</td>\n",
       "      <td>0</td>\n",
       "      <td>0</td>\n",
       "      <td>...</td>\n",
       "      <td>7</td>\n",
       "      <td>1050</td>\n",
       "      <td>910</td>\n",
       "      <td>1965</td>\n",
       "      <td>0</td>\n",
       "      <td>98136</td>\n",
       "      <td>47.52</td>\n",
       "      <td>-122.39</td>\n",
       "      <td>1360</td>\n",
       "      <td>5000</td>\n",
       "    </tr>\n",
       "    <tr>\n",
       "      <th>4</th>\n",
       "      <td>1954400510</td>\n",
       "      <td>20150218T000000</td>\n",
       "      <td>510000.00</td>\n",
       "      <td>3</td>\n",
       "      <td>2.00</td>\n",
       "      <td>1680</td>\n",
       "      <td>8080</td>\n",
       "      <td>1.00</td>\n",
       "      <td>0</td>\n",
       "      <td>0</td>\n",
       "      <td>...</td>\n",
       "      <td>8</td>\n",
       "      <td>1680</td>\n",
       "      <td>0</td>\n",
       "      <td>1987</td>\n",
       "      <td>0</td>\n",
       "      <td>98074</td>\n",
       "      <td>47.62</td>\n",
       "      <td>-122.05</td>\n",
       "      <td>1800</td>\n",
       "      <td>7503</td>\n",
       "    </tr>\n",
       "  </tbody>\n",
       "</table>\n",
       "<p>5 rows × 21 columns</p>\n",
       "</div>"
      ],
      "text/plain": [
       "           id             date     price  bedrooms  bathrooms  sqft_living  \\\n",
       "0  7129300520  20141013T000000 221900.00         3       1.00         1180   \n",
       "1  6414100192  20141209T000000 538000.00         3       2.25         2570   \n",
       "2  5631500400  20150225T000000 180000.00         2       1.00          770   \n",
       "3  2487200875  20141209T000000 604000.00         4       3.00         1960   \n",
       "4  1954400510  20150218T000000 510000.00         3       2.00         1680   \n",
       "\n",
       "   sqft_lot  floors  waterfront  view  ...  grade  sqft_above  sqft_basement  \\\n",
       "0      5650    1.00           0     0  ...      7        1180              0   \n",
       "1      7242    2.00           0     0  ...      7        2170            400   \n",
       "2     10000    1.00           0     0  ...      6         770              0   \n",
       "3      5000    1.00           0     0  ...      7        1050            910   \n",
       "4      8080    1.00           0     0  ...      8        1680              0   \n",
       "\n",
       "   yr_built  yr_renovated  zipcode   lat    long  sqft_living15  sqft_lot15  \n",
       "0      1955             0    98178 47.51 -122.26           1340        5650  \n",
       "1      1951          1991    98125 47.72 -122.32           1690        7639  \n",
       "2      1933             0    98028 47.74 -122.23           2720        8062  \n",
       "3      1965             0    98136 47.52 -122.39           1360        5000  \n",
       "4      1987             0    98074 47.62 -122.05           1800        7503  \n",
       "\n",
       "[5 rows x 21 columns]"
      ]
     },
     "execution_count": 52,
     "metadata": {},
     "output_type": "execute_result"
    }
   ],
   "source": [
    "#Leiutura de arquivo\n",
    "data = pd.read_csv('kc_house_data.csv')\n",
    "data.head()"
   ]
  },
  {
   "cell_type": "code",
   "execution_count": 53,
   "id": "317d91ad",
   "metadata": {
    "ExecuteTime": {
     "end_time": "2022-08-18T01:40:23.572206Z",
     "start_time": "2022-08-18T01:40:23.559843Z"
    }
   },
   "outputs": [
    {
     "name": "stdout",
     "output_type": "stream",
     "text": [
      "Number of rows: 21613\n",
      "Number of columns: 21\n"
     ]
    }
   ],
   "source": [
    "#data dimensions\n",
    "print(f'Number of rows: {data.shape[0]}')\n",
    "print(f'Number of columns: {data.shape[1]}')"
   ]
  },
  {
   "cell_type": "code",
   "execution_count": 54,
   "id": "e1579147",
   "metadata": {
    "ExecuteTime": {
     "end_time": "2022-08-18T01:40:23.588002Z",
     "start_time": "2022-08-18T01:40:23.574236Z"
    }
   },
   "outputs": [],
   "source": [
    "#Convertendo coluna de data\n",
    "data['date'] = pd.to_datetime(data['date'])"
   ]
  },
  {
   "cell_type": "code",
   "execution_count": 55,
   "id": "801db299",
   "metadata": {
    "ExecuteTime": {
     "end_time": "2022-08-18T01:40:23.619082Z",
     "start_time": "2022-08-18T01:40:23.590159Z"
    }
   },
   "outputs": [
    {
     "name": "stdout",
     "output_type": "stream",
     "text": [
      "<class 'pandas.core.frame.DataFrame'>\n",
      "RangeIndex: 21613 entries, 0 to 21612\n",
      "Data columns (total 21 columns):\n",
      " #   Column         Non-Null Count  Dtype         \n",
      "---  ------         --------------  -----         \n",
      " 0   id             21613 non-null  int64         \n",
      " 1   date           21613 non-null  datetime64[ns]\n",
      " 2   price          21613 non-null  float64       \n",
      " 3   bedrooms       21613 non-null  int64         \n",
      " 4   bathrooms      21613 non-null  float64       \n",
      " 5   sqft_living    21613 non-null  int64         \n",
      " 6   sqft_lot       21613 non-null  int64         \n",
      " 7   floors         21613 non-null  float64       \n",
      " 8   waterfront     21613 non-null  int64         \n",
      " 9   view           21613 non-null  int64         \n",
      " 10  condition      21613 non-null  int64         \n",
      " 11  grade          21613 non-null  int64         \n",
      " 12  sqft_above     21613 non-null  int64         \n",
      " 13  sqft_basement  21613 non-null  int64         \n",
      " 14  yr_built       21613 non-null  int64         \n",
      " 15  yr_renovated   21613 non-null  int64         \n",
      " 16  zipcode        21613 non-null  int64         \n",
      " 17  lat            21613 non-null  float64       \n",
      " 18  long           21613 non-null  float64       \n",
      " 19  sqft_living15  21613 non-null  int64         \n",
      " 20  sqft_lot15     21613 non-null  int64         \n",
      "dtypes: datetime64[ns](1), float64(5), int64(15)\n",
      "memory usage: 3.5 MB\n"
     ]
    }
   ],
   "source": [
    "# Checando as informações do dataframe.\n",
    "data.info()"
   ]
  },
  {
   "cell_type": "markdown",
   "id": "bd70a15c",
   "metadata": {},
   "source": [
    "# 3. Transformação"
   ]
  },
  {
   "cell_type": "code",
   "execution_count": 56,
   "id": "cde5a577",
   "metadata": {
    "ExecuteTime": {
     "end_time": "2022-08-18T01:40:23.635040Z",
     "start_time": "2022-08-18T01:40:23.621075Z"
    }
   },
   "outputs": [],
   "source": [
    "# Criando uma cópia do dataframe\n",
    "df = data.copy()"
   ]
  },
  {
   "cell_type": "code",
   "execution_count": 57,
   "id": "35340b6e",
   "metadata": {
    "ExecuteTime": {
     "end_time": "2022-08-18T01:40:23.682944Z",
     "start_time": "2022-08-18T01:40:23.638031Z"
    }
   },
   "outputs": [
    {
     "data": {
      "text/plain": [
       "False    21613\n",
       "dtype: int64"
      ]
     },
     "execution_count": 57,
     "metadata": {},
     "output_type": "execute_result"
    }
   ],
   "source": [
    "# Verificando se existem dados duplicados.\n",
    "df.duplicated().value_counts()"
   ]
  },
  {
   "cell_type": "code",
   "execution_count": 58,
   "id": "bd160fce",
   "metadata": {
    "ExecuteTime": {
     "end_time": "2022-08-18T01:40:23.698875Z",
     "start_time": "2022-08-18T01:40:23.684905Z"
    }
   },
   "outputs": [
    {
     "data": {
      "text/html": [
       "<div>\n",
       "<style scoped>\n",
       "    .dataframe tbody tr th:only-of-type {\n",
       "        vertical-align: middle;\n",
       "    }\n",
       "\n",
       "    .dataframe tbody tr th {\n",
       "        vertical-align: top;\n",
       "    }\n",
       "\n",
       "    .dataframe thead th {\n",
       "        text-align: right;\n",
       "    }\n",
       "</style>\n",
       "<table border=\"1\" class=\"dataframe\">\n",
       "  <thead>\n",
       "    <tr style=\"text-align: right;\">\n",
       "      <th></th>\n",
       "      <th>price</th>\n",
       "      <th>bedrooms</th>\n",
       "      <th>sqft_living</th>\n",
       "      <th>sqft_lot</th>\n",
       "      <th>floors</th>\n",
       "      <th>view</th>\n",
       "      <th>condition</th>\n",
       "      <th>sqft_basement</th>\n",
       "    </tr>\n",
       "  </thead>\n",
       "  <tbody>\n",
       "    <tr>\n",
       "      <th>0</th>\n",
       "      <td>221900.00</td>\n",
       "      <td>3</td>\n",
       "      <td>1180</td>\n",
       "      <td>5650</td>\n",
       "      <td>1.00</td>\n",
       "      <td>0</td>\n",
       "      <td>3</td>\n",
       "      <td>0</td>\n",
       "    </tr>\n",
       "    <tr>\n",
       "      <th>1</th>\n",
       "      <td>538000.00</td>\n",
       "      <td>3</td>\n",
       "      <td>2570</td>\n",
       "      <td>7242</td>\n",
       "      <td>2.00</td>\n",
       "      <td>0</td>\n",
       "      <td>3</td>\n",
       "      <td>400</td>\n",
       "    </tr>\n",
       "    <tr>\n",
       "      <th>2</th>\n",
       "      <td>180000.00</td>\n",
       "      <td>2</td>\n",
       "      <td>770</td>\n",
       "      <td>10000</td>\n",
       "      <td>1.00</td>\n",
       "      <td>0</td>\n",
       "      <td>3</td>\n",
       "      <td>0</td>\n",
       "    </tr>\n",
       "    <tr>\n",
       "      <th>3</th>\n",
       "      <td>604000.00</td>\n",
       "      <td>4</td>\n",
       "      <td>1960</td>\n",
       "      <td>5000</td>\n",
       "      <td>1.00</td>\n",
       "      <td>0</td>\n",
       "      <td>5</td>\n",
       "      <td>910</td>\n",
       "    </tr>\n",
       "    <tr>\n",
       "      <th>4</th>\n",
       "      <td>510000.00</td>\n",
       "      <td>3</td>\n",
       "      <td>1680</td>\n",
       "      <td>8080</td>\n",
       "      <td>1.00</td>\n",
       "      <td>0</td>\n",
       "      <td>3</td>\n",
       "      <td>0</td>\n",
       "    </tr>\n",
       "  </tbody>\n",
       "</table>\n",
       "</div>"
      ],
      "text/plain": [
       "      price  bedrooms  sqft_living  sqft_lot  floors  view  condition  \\\n",
       "0 221900.00         3         1180      5650    1.00     0          3   \n",
       "1 538000.00         3         2570      7242    2.00     0          3   \n",
       "2 180000.00         2          770     10000    1.00     0          3   \n",
       "3 604000.00         4         1960      5000    1.00     0          5   \n",
       "4 510000.00         3         1680      8080    1.00     0          3   \n",
       "\n",
       "   sqft_basement  \n",
       "0              0  \n",
       "1            400  \n",
       "2              0  \n",
       "3            910  \n",
       "4              0  "
      ]
     },
     "execution_count": 58,
     "metadata": {},
     "output_type": "execute_result"
    }
   ],
   "source": [
    "#Selecionando dados não categóricos para análise.\n",
    "atributes = df [['price','bedrooms','sqft_living','sqft_lot',\n",
    "                 'floors','view','condition','sqft_basement']].reset_index(drop=True)    \n",
    "\n",
    "atributes.head()"
   ]
  },
  {
   "cell_type": "code",
   "execution_count": 59,
   "id": "2766b569",
   "metadata": {
    "ExecuteTime": {
     "end_time": "2022-08-18T01:40:23.746774Z",
     "start_time": "2022-08-18T01:40:23.703243Z"
    }
   },
   "outputs": [
    {
     "data": {
      "text/html": [
       "<div>\n",
       "<style scoped>\n",
       "    .dataframe tbody tr th:only-of-type {\n",
       "        vertical-align: middle;\n",
       "    }\n",
       "\n",
       "    .dataframe tbody tr th {\n",
       "        vertical-align: top;\n",
       "    }\n",
       "\n",
       "    .dataframe thead th {\n",
       "        text-align: right;\n",
       "    }\n",
       "</style>\n",
       "<table border=\"1\" class=\"dataframe\">\n",
       "  <thead>\n",
       "    <tr style=\"text-align: right;\">\n",
       "      <th></th>\n",
       "      <th>price</th>\n",
       "      <th>bedrooms</th>\n",
       "      <th>sqft_living</th>\n",
       "      <th>sqft_lot</th>\n",
       "      <th>floors</th>\n",
       "      <th>view</th>\n",
       "      <th>condition</th>\n",
       "      <th>sqft_basement</th>\n",
       "    </tr>\n",
       "  </thead>\n",
       "  <tbody>\n",
       "    <tr>\n",
       "      <th>count</th>\n",
       "      <td>21613.00</td>\n",
       "      <td>21613.00</td>\n",
       "      <td>21613.00</td>\n",
       "      <td>21613.00</td>\n",
       "      <td>21613.00</td>\n",
       "      <td>21613.00</td>\n",
       "      <td>21613.00</td>\n",
       "      <td>21613.00</td>\n",
       "    </tr>\n",
       "    <tr>\n",
       "      <th>mean</th>\n",
       "      <td>540088.14</td>\n",
       "      <td>3.37</td>\n",
       "      <td>2079.90</td>\n",
       "      <td>15106.97</td>\n",
       "      <td>1.49</td>\n",
       "      <td>0.23</td>\n",
       "      <td>3.41</td>\n",
       "      <td>291.51</td>\n",
       "    </tr>\n",
       "    <tr>\n",
       "      <th>std</th>\n",
       "      <td>367127.20</td>\n",
       "      <td>0.93</td>\n",
       "      <td>918.44</td>\n",
       "      <td>41420.51</td>\n",
       "      <td>0.54</td>\n",
       "      <td>0.77</td>\n",
       "      <td>0.65</td>\n",
       "      <td>442.58</td>\n",
       "    </tr>\n",
       "    <tr>\n",
       "      <th>min</th>\n",
       "      <td>75000.00</td>\n",
       "      <td>0.00</td>\n",
       "      <td>290.00</td>\n",
       "      <td>520.00</td>\n",
       "      <td>1.00</td>\n",
       "      <td>0.00</td>\n",
       "      <td>1.00</td>\n",
       "      <td>0.00</td>\n",
       "    </tr>\n",
       "    <tr>\n",
       "      <th>25%</th>\n",
       "      <td>321950.00</td>\n",
       "      <td>3.00</td>\n",
       "      <td>1427.00</td>\n",
       "      <td>5040.00</td>\n",
       "      <td>1.00</td>\n",
       "      <td>0.00</td>\n",
       "      <td>3.00</td>\n",
       "      <td>0.00</td>\n",
       "    </tr>\n",
       "    <tr>\n",
       "      <th>50%</th>\n",
       "      <td>450000.00</td>\n",
       "      <td>3.00</td>\n",
       "      <td>1910.00</td>\n",
       "      <td>7618.00</td>\n",
       "      <td>1.50</td>\n",
       "      <td>0.00</td>\n",
       "      <td>3.00</td>\n",
       "      <td>0.00</td>\n",
       "    </tr>\n",
       "    <tr>\n",
       "      <th>75%</th>\n",
       "      <td>645000.00</td>\n",
       "      <td>4.00</td>\n",
       "      <td>2550.00</td>\n",
       "      <td>10688.00</td>\n",
       "      <td>2.00</td>\n",
       "      <td>0.00</td>\n",
       "      <td>4.00</td>\n",
       "      <td>560.00</td>\n",
       "    </tr>\n",
       "    <tr>\n",
       "      <th>max</th>\n",
       "      <td>7700000.00</td>\n",
       "      <td>33.00</td>\n",
       "      <td>13540.00</td>\n",
       "      <td>1651359.00</td>\n",
       "      <td>3.50</td>\n",
       "      <td>4.00</td>\n",
       "      <td>5.00</td>\n",
       "      <td>4820.00</td>\n",
       "    </tr>\n",
       "  </tbody>\n",
       "</table>\n",
       "</div>"
      ],
      "text/plain": [
       "           price  bedrooms  sqft_living   sqft_lot   floors     view  \\\n",
       "count   21613.00  21613.00     21613.00   21613.00 21613.00 21613.00   \n",
       "mean   540088.14      3.37      2079.90   15106.97     1.49     0.23   \n",
       "std    367127.20      0.93       918.44   41420.51     0.54     0.77   \n",
       "min     75000.00      0.00       290.00     520.00     1.00     0.00   \n",
       "25%    321950.00      3.00      1427.00    5040.00     1.00     0.00   \n",
       "50%    450000.00      3.00      1910.00    7618.00     1.50     0.00   \n",
       "75%    645000.00      4.00      2550.00   10688.00     2.00     0.00   \n",
       "max   7700000.00     33.00     13540.00 1651359.00     3.50     4.00   \n",
       "\n",
       "       condition  sqft_basement  \n",
       "count   21613.00       21613.00  \n",
       "mean        3.41         291.51  \n",
       "std         0.65         442.58  \n",
       "min         1.00           0.00  \n",
       "25%         3.00           0.00  \n",
       "50%         3.00           0.00  \n",
       "75%         4.00         560.00  \n",
       "max         5.00        4820.00  "
      ]
     },
     "execution_count": 59,
     "metadata": {},
     "output_type": "execute_result"
    }
   ],
   "source": [
    "# Resumo estatístico dos dados\n",
    "statistics = atributes.describe()\n",
    "statistics"
   ]
  },
  {
   "cell_type": "markdown",
   "id": "76c05a26",
   "metadata": {},
   "source": [
    "Nota-se que temos um valor destacado dos demais dados, que é o número de quartos igual a 33.\n",
    "\n",
    "Com isso, pode-se entender que talvez trata-se de uma mansão que se destaca dos demais imóveis, no entanto, vamos checar possíveis outliers."
   ]
  },
  {
   "cell_type": "code",
   "execution_count": 60,
   "id": "be322dd3",
   "metadata": {
    "ExecuteTime": {
     "end_time": "2022-08-18T01:40:23.904050Z",
     "start_time": "2022-08-18T01:40:23.748965Z"
    }
   },
   "outputs": [
    {
     "data": {
      "image/png": "[encoded data removed]",
      "text/plain": [
       "<Figure size 1080x576 with 1 Axes>"
      ]
     },
     "metadata": {
      "needs_background": "light"
     },
     "output_type": "display_data"
    }
   ],
   "source": [
    "# Usando boxplots para identificar outliers\n",
    "plt.figure(figsize=(15,8))\n",
    "df[['bedrooms']].boxplot();"
   ]
  },
  {
   "cell_type": "markdown",
   "id": "c948655d",
   "metadata": {},
   "source": [
    "Como visto no boxplot, temos um ponto isolado acima de 15 e outro em 0. Logo, vamos checar quantos imóveis possuem mais de 15 quartos ou nenhum quarto."
   ]
  },
  {
   "cell_type": "code",
   "execution_count": 61,
   "id": "57527011",
   "metadata": {
    "ExecuteTime": {
     "end_time": "2022-08-18T01:40:23.935883Z",
     "start_time": "2022-08-18T01:40:23.910952Z"
    }
   },
   "outputs": [
    {
     "data": {
      "text/plain": [
       "1"
      ]
     },
     "execution_count": 61,
     "metadata": {},
     "output_type": "execute_result"
    }
   ],
   "source": [
    "len (df.loc[df['bedrooms'] > 15 ])"
   ]
  },
  {
   "cell_type": "code",
   "execution_count": 62,
   "id": "2bfc4acb",
   "metadata": {
    "ExecuteTime": {
     "end_time": "2022-08-18T01:40:23.951680Z",
     "start_time": "2022-08-18T01:40:23.937871Z"
    }
   },
   "outputs": [
    {
     "data": {
      "text/plain": [
       "13"
      ]
     },
     "execution_count": 62,
     "metadata": {},
     "output_type": "execute_result"
    }
   ],
   "source": [
    "len ( df.loc [df['bedrooms'] == 0])"
   ]
  },
  {
   "cell_type": "markdown",
   "id": "82a7ec2a",
   "metadata": {},
   "source": [
    "Apenas 1 imóvel possui mais de 15 quartos, enquanto 13 imóveis não possui nenhum. Com isso, tendo em vista que a média de imóveis são com 3 quartos, o número 33 podemos deduzir que possa ter sido erro de digitação, no entanto, para essa primeira versão do projeto, iremos considerar esse outlier e realizar a análise exploratória dos dados para válidar hipóteses."
   ]
  },
  {
   "cell_type": "markdown",
   "id": "d7f05684",
   "metadata": {},
   "source": [
    "#  4. Análise Exploratória e Validação de Hipóteses"
   ]
  },
  {
   "cell_type": "markdown",
   "id": "9623f385",
   "metadata": {},
   "source": [
    "* HP1: Imóveis que possuem vista para água são pelo menos 30% mais caros, na média.\n",
    "* HP2: Imóveis com ano de construção menor que 1955 são pelo menos 50% mais baratos, na média.\n",
    "* HP3: Imóveis que foram renovados em 2015 são pelo menos 10% mais caros, na média.\n",
    "* HP4: O crescimento do preço dos imóveis YoY (Year over Year) é de pelo menos 10%.\n",
    "* HP5: Imóveis com 3 banheiros tem um crescimento de preço MoM (Month over Month) de pelo menos 15%."
   ]
  },
  {
   "cell_type": "markdown",
   "id": "ccffba0f",
   "metadata": {},
   "source": [
    "### HP1: Imóveis que possuem vista para água são pelo menos 30% mais caros, na média."
   ]
  },
  {
   "cell_type": "code",
   "execution_count": 63,
   "id": "a7cae9de",
   "metadata": {
    "ExecuteTime": {
     "end_time": "2022-08-18T01:40:23.983749Z",
     "start_time": "2022-08-18T01:40:23.953862Z"
    },
    "scrolled": true
   },
   "outputs": [
    {
     "data": {
      "text/html": [
       "<div>\n",
       "<style scoped>\n",
       "    .dataframe tbody tr th:only-of-type {\n",
       "        vertical-align: middle;\n",
       "    }\n",
       "\n",
       "    .dataframe tbody tr th {\n",
       "        vertical-align: top;\n",
       "    }\n",
       "\n",
       "    .dataframe thead th {\n",
       "        text-align: right;\n",
       "    }\n",
       "</style>\n",
       "<table border=\"1\" class=\"dataframe\">\n",
       "  <thead>\n",
       "    <tr style=\"text-align: right;\">\n",
       "      <th></th>\n",
       "      <th>waterfront</th>\n",
       "      <th>mean_price</th>\n",
       "    </tr>\n",
       "  </thead>\n",
       "  <tbody>\n",
       "    <tr>\n",
       "      <th>0</th>\n",
       "      <td>no</td>\n",
       "      <td>531563.60</td>\n",
       "    </tr>\n",
       "    <tr>\n",
       "      <th>1</th>\n",
       "      <td>Yes</td>\n",
       "      <td>1661876.02</td>\n",
       "    </tr>\n",
       "  </tbody>\n",
       "</table>\n",
       "</div>"
      ],
      "text/plain": [
       "  waterfront  mean_price\n",
       "0         no   531563.60\n",
       "1        Yes  1661876.02"
      ]
     },
     "execution_count": 63,
     "metadata": {},
     "output_type": "execute_result"
    }
   ],
   "source": [
    "df_hp1 = round( df [['price', 'waterfront']].groupby ('waterfront').mean().reset_index(), 2)\n",
    "df_hp1 ['waterfront'] = df_hp1 ['waterfront'].apply (lambda x: 'Yes' if x == 1 else 'no')\n",
    "df_hp1.columns = ['waterfront','mean_price']\n",
    "df_hp1"
   ]
  },
  {
   "cell_type": "code",
   "execution_count": 64,
   "id": "5671df09",
   "metadata": {
    "ExecuteTime": {
     "end_time": "2022-08-18T01:40:23.999734Z",
     "start_time": "2022-08-18T01:40:23.984747Z"
    }
   },
   "outputs": [
    {
     "name": "stdout",
     "output_type": "stream",
     "text": [
      "Imóveis com vista para a água são 212.64% mais caros na média\n"
     ]
    }
   ],
   "source": [
    "# Variação percentual\n",
    "y_waterfront= df_hp1.loc[1,'mean_price']\n",
    "n_waterfront= df_hp1.loc[0,'mean_price']\n",
    "variation = round(((y_waterfront - n_waterfront) *100) / n_waterfront, 2)\n",
    "print (f'Imóveis com vista para a água são {variation}% mais caros na média')"
   ]
  },
  {
   "cell_type": "code",
   "execution_count": 146,
   "id": "315ce566",
   "metadata": {
    "ExecuteTime": {
     "end_time": "2022-08-21T21:04:37.483684Z",
     "start_time": "2022-08-21T21:04:37.342878Z"
    }
   },
   "outputs": [
    {
     "data": {
      "image/png": "[encoded data removed]",
      "text/plain": [
       "<Figure size 720x360 with 1 Axes>"
      ]
     },
     "metadata": {
      "needs_background": "light"
     },
     "output_type": "display_data"
    }
   ],
   "source": [
    "#Plot de gráfico de barras\n",
    "plt.figure (figsize=(10,5));\n",
    "sns.barplot (x= 'waterfront', y= 'mean_price', data = df_hp1);\n",
    "plt.xlabel ('Vista p/ Agua', fontsize = 12.0, weight = 'bold');\n",
    "plt.ylabel ('Média de preço (US$)', fontsize = 12.0, weight = 'bold');\n",
    "plt.title ('HIPÓTESE 1', weight= 'bold');"
   ]
  },
  {
   "cell_type": "markdown",
   "id": "6c3b6d36",
   "metadata": {},
   "source": [
    "### Validação de hipótese\n",
    " * HP1 é VERDADEIRA, conforme demonstrado, os valores dos imóveis que possuem vista para a água são muito mais caros, representando 212,64% acima da média."
   ]
  },
  {
   "cell_type": "markdown",
   "id": "678d64dd",
   "metadata": {},
   "source": [
    "### HP2: Imóveis com ano de construção menor que 1955 são pelo menos 50% mais baratos, na média."
   ]
  },
  {
   "cell_type": "code",
   "execution_count": 66,
   "id": "ce8be186",
   "metadata": {
    "ExecuteTime": {
     "end_time": "2022-08-18T01:40:24.140871Z",
     "start_time": "2022-08-18T01:40:24.126906Z"
    }
   },
   "outputs": [],
   "source": [
    "#Criando uma cópia do data set apenas com dados a serem analizados.\n",
    "df_hp2 = df[['price', 'yr_built']].copy()"
   ]
  },
  {
   "cell_type": "code",
   "execution_count": 67,
   "id": "fd0d9653",
   "metadata": {
    "ExecuteTime": {
     "end_time": "2022-08-18T01:40:24.171010Z",
     "start_time": "2022-08-18T01:40:24.142866Z"
    }
   },
   "outputs": [
    {
     "data": {
      "text/html": [
       "<div>\n",
       "<style scoped>\n",
       "    .dataframe tbody tr th:only-of-type {\n",
       "        vertical-align: middle;\n",
       "    }\n",
       "\n",
       "    .dataframe tbody tr th {\n",
       "        vertical-align: top;\n",
       "    }\n",
       "\n",
       "    .dataframe thead th {\n",
       "        text-align: right;\n",
       "    }\n",
       "</style>\n",
       "<table border=\"1\" class=\"dataframe\">\n",
       "  <thead>\n",
       "    <tr style=\"text-align: right;\">\n",
       "      <th></th>\n",
       "      <th>construction_age</th>\n",
       "      <th>mean_price</th>\n",
       "    </tr>\n",
       "  </thead>\n",
       "  <tbody>\n",
       "    <tr>\n",
       "      <th>0</th>\n",
       "      <td>new</td>\n",
       "      <td>542917.16</td>\n",
       "    </tr>\n",
       "    <tr>\n",
       "      <th>1</th>\n",
       "      <td>old</td>\n",
       "      <td>533415.43</td>\n",
       "    </tr>\n",
       "  </tbody>\n",
       "</table>\n",
       "</div>"
      ],
      "text/plain": [
       "  construction_age  mean_price\n",
       "0              new   542917.16\n",
       "1              old   533415.43"
      ]
     },
     "execution_count": 67,
     "metadata": {},
     "output_type": "execute_result"
    }
   ],
   "source": [
    "df_hp2 ['construction_age'] = df_hp2 ['yr_built'].apply (lambda x: 'old' if x <= 1955 else 'new')\n",
    "df_hp2 = df_hp2 [['price','construction_age']].groupby ('construction_age').mean().reset_index()\n",
    "df_hp2.columns = ['construction_age','mean_price']\n",
    "df_hp2"
   ]
  },
  {
   "cell_type": "code",
   "execution_count": 147,
   "id": "8a44b39b",
   "metadata": {
    "ExecuteTime": {
     "end_time": "2022-08-21T21:04:54.778247Z",
     "start_time": "2022-08-21T21:04:54.663351Z"
    },
    "scrolled": true
   },
   "outputs": [
    {
     "data": {
      "image/png": "[encoded data removed]",
      "text/plain": [
       "<Figure size 720x360 with 1 Axes>"
      ]
     },
     "metadata": {
      "needs_background": "light"
     },
     "output_type": "display_data"
    }
   ],
   "source": [
    "fig = plt.figure (figsize= (10,5))\n",
    "sns.barplot (x='construction_age', y='mean_price', data= df_hp2);\n",
    "plt.xlabel ('Ano de construção', fontsize = 12.0, weight = 'bold');\n",
    "plt.ylabel ('Média de preço (US$)', fontsize = 12.0, weight = 'bold');\n",
    "plt.title ('HIPÓTESE 2', weight= 'bold');"
   ]
  },
  {
   "cell_type": "code",
   "execution_count": 69,
   "id": "c3a8ff2c",
   "metadata": {
    "ExecuteTime": {
     "end_time": "2022-08-18T01:40:24.298448Z",
     "start_time": "2022-08-18T01:40:24.285681Z"
    }
   },
   "outputs": [
    {
     "name": "stdout",
     "output_type": "stream",
     "text": [
      "1.78%\n"
     ]
    }
   ],
   "source": [
    "new_age = df_hp2.loc [0,'mean_price']\n",
    "old_age = df_hp2.loc [1,'mean_price']\n",
    "variation_hp2 = round(((new_age - old_age)*100) / old_age,2)\n",
    "print (f'{variation_hp2}%')"
   ]
  },
  {
   "cell_type": "markdown",
   "id": "6ae5b830",
   "metadata": {},
   "source": [
    "### Validação de hipótese\n",
    " * HP2 é FALSA, conforme demonstrado, os preços dos imóveis mais antigos, comparados aos mais novos são bem próximos, ficando na casa de variação de apenas 1,78%."
   ]
  },
  {
   "cell_type": "markdown",
   "id": "ab13a6f4",
   "metadata": {},
   "source": [
    "### HP3: Imóveis que foram renovados em 2015 são pelo menos 10% mais caros que os demais, na média."
   ]
  },
  {
   "cell_type": "code",
   "execution_count": 70,
   "id": "7fcea382",
   "metadata": {
    "ExecuteTime": {
     "end_time": "2022-08-18T01:40:24.314405Z",
     "start_time": "2022-08-18T01:40:24.300443Z"
    }
   },
   "outputs": [],
   "source": [
    "#Planejamento\n",
    "#Criar uma copia do dataframe, contendo apenas os dados a serem analisados.\n",
    "#Criar uma nova coluna chamada \"renovated\", popular essa coluna com descritivo\n",
    "\n",
    "df_hp3 = df [['price','yr_renovated']].copy()"
   ]
  },
  {
   "cell_type": "code",
   "execution_count": 71,
   "id": "94492fe8",
   "metadata": {
    "ExecuteTime": {
     "end_time": "2022-08-18T01:40:24.361279Z",
     "start_time": "2022-08-18T01:40:24.325376Z"
    }
   },
   "outputs": [
    {
     "data": {
      "text/html": [
       "<div>\n",
       "<style scoped>\n",
       "    .dataframe tbody tr th:only-of-type {\n",
       "        vertical-align: middle;\n",
       "    }\n",
       "\n",
       "    .dataframe tbody tr th {\n",
       "        vertical-align: top;\n",
       "    }\n",
       "\n",
       "    .dataframe thead th {\n",
       "        text-align: right;\n",
       "    }\n",
       "</style>\n",
       "<table border=\"1\" class=\"dataframe\">\n",
       "  <thead>\n",
       "    <tr style=\"text-align: right;\">\n",
       "      <th></th>\n",
       "      <th>renovated</th>\n",
       "      <th>mean_price</th>\n",
       "    </tr>\n",
       "  </thead>\n",
       "  <tbody>\n",
       "    <tr>\n",
       "      <th>0</th>\n",
       "      <td>latest_2015</td>\n",
       "      <td>658843.75</td>\n",
       "    </tr>\n",
       "    <tr>\n",
       "      <th>1</th>\n",
       "      <td>oldest</td>\n",
       "      <td>540000.16</td>\n",
       "    </tr>\n",
       "  </tbody>\n",
       "</table>\n",
       "</div>"
      ],
      "text/plain": [
       "     renovated  mean_price\n",
       "0  latest_2015   658843.75\n",
       "1       oldest   540000.16"
      ]
     },
     "execution_count": 71,
     "metadata": {},
     "output_type": "execute_result"
    }
   ],
   "source": [
    "df_hp3 ['renovated'] = df_hp3['yr_renovated'].apply (lambda x: 'latest_2015' if x == 2015 else 'oldest')\n",
    "df_hp3 = df_hp3 [['price', 'renovated']].groupby ('renovated').mean().reset_index()\n",
    "df_hp3.columns = ['renovated','mean_price']\n",
    "df_hp3"
   ]
  },
  {
   "cell_type": "code",
   "execution_count": 148,
   "id": "9f6d02cc",
   "metadata": {
    "ExecuteTime": {
     "end_time": "2022-08-21T21:05:04.583353Z",
     "start_time": "2022-08-21T21:05:04.438253Z"
    }
   },
   "outputs": [
    {
     "data": {
      "image/png": "[encoded data removed]",
      "text/plain": [
       "<Figure size 720x360 with 1 Axes>"
      ]
     },
     "metadata": {
      "needs_background": "light"
     },
     "output_type": "display_data"
    }
   ],
   "source": [
    "fig = plt.figure (figsize=(10,5))\n",
    "sns.barplot (x='renovated', y='mean_price', data= df_hp3);\n",
    "plt.xlabel ('Renovação de Imóveis', fontsize = 12.0, weight = 'bold');\n",
    "plt.ylabel ('Média de preço (US$)', fontsize = 12.0, weight = 'bold');\n",
    "plt.title ('HIPÓTESE 3', weight= 'bold');"
   ]
  },
  {
   "cell_type": "code",
   "execution_count": 73,
   "id": "9e0d41fb",
   "metadata": {
    "ExecuteTime": {
     "end_time": "2022-08-18T01:40:24.502599Z",
     "start_time": "2022-08-18T01:40:24.488637Z"
    }
   },
   "outputs": [
    {
     "name": "stdout",
     "output_type": "stream",
     "text": [
      "22.01%\n"
     ]
    }
   ],
   "source": [
    "lat_2015 = df_hp3.loc[0, 'mean_price']\n",
    "oldest = df_hp3.loc [1,'mean_price']\n",
    "variation_hp3 = round(((lat_2015 - oldest)*100) / oldest,2)\n",
    "print (f'{variation_hp3}%')"
   ]
  },
  {
   "cell_type": "markdown",
   "id": "36ca3fa5",
   "metadata": {},
   "source": [
    "### Validação de hipótese\n",
    " * HP3 é VERDADEIRA, acima visualizamos que os imóveis que foram recentemente renovados, mais precisamente no ano de 2015, são em média, 22.01% mais caros que os demais."
   ]
  },
  {
   "cell_type": "markdown",
   "id": "701641a6",
   "metadata": {},
   "source": [
    "### HP4: O crescimento do preço dos imóveis YoY (Year over Year) é de pelo menos 10%."
   ]
  },
  {
   "cell_type": "code",
   "execution_count": 74,
   "id": "0cc96efe",
   "metadata": {
    "ExecuteTime": {
     "end_time": "2022-08-18T01:40:24.518393Z",
     "start_time": "2022-08-18T01:40:24.505594Z"
    }
   },
   "outputs": [],
   "source": [
    "# Criando uma cópia do dataframe original, com as colunas de ID, data e preço.\n",
    "df_hp4 = df [['id','date','price']].copy()"
   ]
  },
  {
   "cell_type": "code",
   "execution_count": 75,
   "id": "b4fde868",
   "metadata": {
    "ExecuteTime": {
     "end_time": "2022-08-18T01:40:24.783836Z",
     "start_time": "2022-08-18T01:40:24.520559Z"
    }
   },
   "outputs": [],
   "source": [
    "#Convertendo minha coluna de data para que me traga apenas os anos\n",
    "df_hp4 ['date'] = pd.to_datetime(df_hp4 ['date']).dt.strftime('%Y')"
   ]
  },
  {
   "cell_type": "code",
   "execution_count": 76,
   "id": "1b27c2c2",
   "metadata": {
    "ExecuteTime": {
     "end_time": "2022-08-18T01:40:24.799671Z",
     "start_time": "2022-08-18T01:40:24.785839Z"
    }
   },
   "outputs": [
    {
     "data": {
      "text/plain": [
       "array(['2014', '2015'], dtype=object)"
      ]
     },
     "execution_count": 76,
     "metadata": {},
     "output_type": "execute_result"
    }
   ],
   "source": [
    "#Verificando dados unicos de date filtrados pelo ano\n",
    "df_hp4['date'].unique()"
   ]
  },
  {
   "cell_type": "code",
   "execution_count": 77,
   "id": "0bd970cf",
   "metadata": {
    "ExecuteTime": {
     "end_time": "2022-08-18T01:40:24.831618Z",
     "start_time": "2022-08-18T01:40:24.803659Z"
    },
    "scrolled": true
   },
   "outputs": [
    {
     "data": {
      "text/html": [
       "<div>\n",
       "<style scoped>\n",
       "    .dataframe tbody tr th:only-of-type {\n",
       "        vertical-align: middle;\n",
       "    }\n",
       "\n",
       "    .dataframe tbody tr th {\n",
       "        vertical-align: top;\n",
       "    }\n",
       "\n",
       "    .dataframe thead th {\n",
       "        text-align: right;\n",
       "    }\n",
       "</style>\n",
       "<table border=\"1\" class=\"dataframe\">\n",
       "  <thead>\n",
       "    <tr style=\"text-align: right;\">\n",
       "      <th></th>\n",
       "      <th>year</th>\n",
       "      <th>mean_price</th>\n",
       "    </tr>\n",
       "  </thead>\n",
       "  <tbody>\n",
       "    <tr>\n",
       "      <th>0</th>\n",
       "      <td>2014</td>\n",
       "      <td>539181.43</td>\n",
       "    </tr>\n",
       "    <tr>\n",
       "      <th>1</th>\n",
       "      <td>2015</td>\n",
       "      <td>541988.99</td>\n",
       "    </tr>\n",
       "  </tbody>\n",
       "</table>\n",
       "</div>"
      ],
      "text/plain": [
       "   year  mean_price\n",
       "0  2014   539181.43\n",
       "1  2015   541988.99"
      ]
     },
     "execution_count": 77,
     "metadata": {},
     "output_type": "execute_result"
    }
   ],
   "source": [
    "#Fazendo a média de preços ano a ano.\n",
    "df_hp4 = df_hp4 [['date','price']].groupby ('date').mean().reset_index()\n",
    "df_hp4.columns = ['year','mean_price']\n",
    "df_hp4"
   ]
  },
  {
   "cell_type": "code",
   "execution_count": 78,
   "id": "763d4a57",
   "metadata": {
    "ExecuteTime": {
     "end_time": "2022-08-18T01:40:24.847579Z",
     "start_time": "2022-08-18T01:40:24.833578Z"
    }
   },
   "outputs": [],
   "source": [
    "#Convertendo a coluna year de 'str' para 'int'\n",
    "df_hp4 ['year'] = df_hp4 ['year'].astype ('int64')"
   ]
  },
  {
   "cell_type": "code",
   "execution_count": 79,
   "id": "38d4a2e4",
   "metadata": {
    "ExecuteTime": {
     "end_time": "2022-08-18T01:40:24.863500Z",
     "start_time": "2022-08-18T01:40:24.849576Z"
    },
    "scrolled": true
   },
   "outputs": [
    {
     "data": {
      "text/html": [
       "<div>\n",
       "<style scoped>\n",
       "    .dataframe tbody tr th:only-of-type {\n",
       "        vertical-align: middle;\n",
       "    }\n",
       "\n",
       "    .dataframe tbody tr th {\n",
       "        vertical-align: top;\n",
       "    }\n",
       "\n",
       "    .dataframe thead th {\n",
       "        text-align: right;\n",
       "    }\n",
       "</style>\n",
       "<table border=\"1\" class=\"dataframe\">\n",
       "  <thead>\n",
       "    <tr style=\"text-align: right;\">\n",
       "      <th></th>\n",
       "      <th>year</th>\n",
       "      <th>mean_price</th>\n",
       "      <th>growth</th>\n",
       "    </tr>\n",
       "  </thead>\n",
       "  <tbody>\n",
       "    <tr>\n",
       "      <th>0</th>\n",
       "      <td>2014</td>\n",
       "      <td>539181.43</td>\n",
       "      <td>NaN</td>\n",
       "    </tr>\n",
       "    <tr>\n",
       "      <th>1</th>\n",
       "      <td>2015</td>\n",
       "      <td>541988.99</td>\n",
       "      <td>0.01</td>\n",
       "    </tr>\n",
       "  </tbody>\n",
       "</table>\n",
       "</div>"
      ],
      "text/plain": [
       "   year  mean_price  growth\n",
       "0  2014   539181.43     NaN\n",
       "1  2015   541988.99    0.01"
      ]
     },
     "execution_count": 79,
     "metadata": {},
     "output_type": "execute_result"
    }
   ],
   "source": [
    "# Fazendo o crescimento ano a ano usando o método 'pct_change'\n",
    "df_hp4 ['growth'] = df_hp4 ['mean_price'].pct_change()\n",
    "df_hp4"
   ]
  },
  {
   "cell_type": "code",
   "execution_count": 149,
   "id": "960b497b",
   "metadata": {
    "ExecuteTime": {
     "end_time": "2022-08-21T21:05:18.862107Z",
     "start_time": "2022-08-21T21:05:18.742651Z"
    },
    "scrolled": true
   },
   "outputs": [
    {
     "data": {
      "image/png": "[encoded data removed]",
      "text/plain": [
       "<Figure size 720x360 with 1 Axes>"
      ]
     },
     "metadata": {
      "needs_background": "light"
     },
     "output_type": "display_data"
    }
   ],
   "source": [
    "fig = plt.figure (figsize= (10,5))\n",
    "sns.barplot (x= 'year', y='mean_price', data= df_hp4);\n",
    "plt.xlabel ('Crescimento Ano a Ano', fontsize = 12.0, weight = 'bold');\n",
    "plt.ylabel ('Média de Preço (US$)', fontsize = 12.0, weight = 'bold');\n",
    "plt.title ('HIPÓTESE 4', weight= 'bold');"
   ]
  },
  {
   "cell_type": "markdown",
   "id": "18a2875f",
   "metadata": {},
   "source": [
    "### Validação de hipótese\n",
    "* HP4"
   ]
  },
  {
   "cell_type": "code",
   "execution_count": 81,
   "id": "f909e0a8",
   "metadata": {
    "ExecuteTime": {
     "end_time": "2022-08-18T01:40:24.987571Z",
     "start_time": "2022-08-18T01:40:24.974534Z"
    }
   },
   "outputs": [
    {
     "name": "stdout",
     "output_type": "stream",
     "text": [
      "Falso. A variação percentual do valor médio dos imóveis ano a ano é de 0.52%\n"
     ]
    }
   ],
   "source": [
    "if df_hp4.loc [1,'growth'] >= 0.1:\n",
    "  result = 'Verdadeiro'\n",
    "\n",
    "else:\n",
    "  result = 'Falso'\n",
    "\n",
    "print('{}. A variação percentual do valor médio dos imóveis ano a ano é de {:.2f}%'.format(result, df_hp4.loc[1,'growth']*100))"
   ]
  },
  {
   "cell_type": "markdown",
   "id": "61661044",
   "metadata": {},
   "source": [
    "### HP5: Imóveis com 3 banheiros tem um crescimento de preço MoM (Month over Month) de pelo menos 15%"
   ]
  },
  {
   "cell_type": "code",
   "execution_count": 82,
   "id": "3ecb6e74",
   "metadata": {
    "ExecuteTime": {
     "end_time": "2022-08-18T01:40:25.003491Z",
     "start_time": "2022-08-18T01:40:24.990493Z"
    }
   },
   "outputs": [],
   "source": [
    "# Criando uma cópia do dataframe original, com as colunas necessárias para análise.\n",
    "df_hp5 = df [['id','date','price','bathrooms']].copy()"
   ]
  },
  {
   "cell_type": "code",
   "execution_count": 83,
   "id": "655373c4",
   "metadata": {
    "ExecuteTime": {
     "end_time": "2022-08-18T01:40:25.049660Z",
     "start_time": "2022-08-18T01:40:25.006449Z"
    }
   },
   "outputs": [
    {
     "data": {
      "text/plain": [
       "array([201405, 201406, 201407, 201408, 201409, 201410, 201411, 201412,\n",
       "       201501, 201502, 201503, 201504, 201505], dtype=int64)"
      ]
     },
     "execution_count": 83,
     "metadata": {},
     "output_type": "execute_result"
    }
   ],
   "source": [
    "#Criando uma variavel com mes e ano e verificando dados únicos.\n",
    "df_hp5 ['year_month'] = df_hp5 ['date'].apply (lambda x: 100*x.year + x.month)\n",
    "df_hp5['year_month'].sort_values().unique()"
   ]
  },
  {
   "cell_type": "code",
   "execution_count": 84,
   "id": "b8e7d491",
   "metadata": {
    "ExecuteTime": {
     "end_time": "2022-08-18T01:40:25.065629Z",
     "start_time": "2022-08-18T01:40:25.051665Z"
    }
   },
   "outputs": [
    {
     "data": {
      "text/html": [
       "<div>\n",
       "<style scoped>\n",
       "    .dataframe tbody tr th:only-of-type {\n",
       "        vertical-align: middle;\n",
       "    }\n",
       "\n",
       "    .dataframe tbody tr th {\n",
       "        vertical-align: top;\n",
       "    }\n",
       "\n",
       "    .dataframe thead th {\n",
       "        text-align: right;\n",
       "    }\n",
       "</style>\n",
       "<table border=\"1\" class=\"dataframe\">\n",
       "  <thead>\n",
       "    <tr style=\"text-align: right;\">\n",
       "      <th></th>\n",
       "      <th>id</th>\n",
       "      <th>date</th>\n",
       "      <th>price</th>\n",
       "      <th>bathrooms</th>\n",
       "      <th>year_month</th>\n",
       "    </tr>\n",
       "  </thead>\n",
       "  <tbody>\n",
       "    <tr>\n",
       "      <th>0</th>\n",
       "      <td>2025700730</td>\n",
       "      <td>2014-05-02</td>\n",
       "      <td>287200.00</td>\n",
       "      <td>3.00</td>\n",
       "      <td>201405</td>\n",
       "    </tr>\n",
       "    <tr>\n",
       "      <th>1</th>\n",
       "      <td>6600780130</td>\n",
       "      <td>2014-05-02</td>\n",
       "      <td>367500.00</td>\n",
       "      <td>3.00</td>\n",
       "      <td>201405</td>\n",
       "    </tr>\n",
       "    <tr>\n",
       "      <th>2</th>\n",
       "      <td>9828700200</td>\n",
       "      <td>2014-05-05</td>\n",
       "      <td>831000.00</td>\n",
       "      <td>3.00</td>\n",
       "      <td>201405</td>\n",
       "    </tr>\n",
       "    <tr>\n",
       "      <th>3</th>\n",
       "      <td>2488200459</td>\n",
       "      <td>2014-05-05</td>\n",
       "      <td>405000.00</td>\n",
       "      <td>3.00</td>\n",
       "      <td>201405</td>\n",
       "    </tr>\n",
       "    <tr>\n",
       "      <th>4</th>\n",
       "      <td>6865200444</td>\n",
       "      <td>2014-05-05</td>\n",
       "      <td>531000.00</td>\n",
       "      <td>3.00</td>\n",
       "      <td>201405</td>\n",
       "    </tr>\n",
       "  </tbody>\n",
       "</table>\n",
       "</div>"
      ],
      "text/plain": [
       "           id       date     price  bathrooms  year_month\n",
       "0  2025700730 2014-05-02 287200.00       3.00      201405\n",
       "1  6600780130 2014-05-02 367500.00       3.00      201405\n",
       "2  9828700200 2014-05-05 831000.00       3.00      201405\n",
       "3  2488200459 2014-05-05 405000.00       3.00      201405\n",
       "4  6865200444 2014-05-05 531000.00       3.00      201405"
      ]
     },
     "execution_count": 84,
     "metadata": {},
     "output_type": "execute_result"
    }
   ],
   "source": [
    "#Atualizando minha variável com os dados, apenas com os imóveis que tenham 3 banheiros.\n",
    "df_hp5 = df_hp5.loc[df_hp5['bathrooms'] == 3].sort_values('date').reset_index(drop=True)\n",
    "df_hp5.head()"
   ]
  },
  {
   "cell_type": "code",
   "execution_count": 85,
   "id": "3b887bd4",
   "metadata": {
    "ExecuteTime": {
     "end_time": "2022-08-18T01:40:25.081585Z",
     "start_time": "2022-08-18T01:40:25.068746Z"
    }
   },
   "outputs": [
    {
     "data": {
      "text/html": [
       "<div>\n",
       "<style scoped>\n",
       "    .dataframe tbody tr th:only-of-type {\n",
       "        vertical-align: middle;\n",
       "    }\n",
       "\n",
       "    .dataframe tbody tr th {\n",
       "        vertical-align: top;\n",
       "    }\n",
       "\n",
       "    .dataframe thead th {\n",
       "        text-align: right;\n",
       "    }\n",
       "</style>\n",
       "<table border=\"1\" class=\"dataframe\">\n",
       "  <thead>\n",
       "    <tr style=\"text-align: right;\">\n",
       "      <th></th>\n",
       "      <th>year_month</th>\n",
       "      <th>mean_price</th>\n",
       "    </tr>\n",
       "  </thead>\n",
       "  <tbody>\n",
       "    <tr>\n",
       "      <th>0</th>\n",
       "      <td>201405</td>\n",
       "      <td>690080.71</td>\n",
       "    </tr>\n",
       "    <tr>\n",
       "      <th>1</th>\n",
       "      <td>201406</td>\n",
       "      <td>775057.56</td>\n",
       "    </tr>\n",
       "    <tr>\n",
       "      <th>2</th>\n",
       "      <td>201407</td>\n",
       "      <td>741405.04</td>\n",
       "    </tr>\n",
       "    <tr>\n",
       "      <th>3</th>\n",
       "      <td>201408</td>\n",
       "      <td>737576.56</td>\n",
       "    </tr>\n",
       "    <tr>\n",
       "      <th>4</th>\n",
       "      <td>201409</td>\n",
       "      <td>645246.89</td>\n",
       "    </tr>\n",
       "    <tr>\n",
       "      <th>5</th>\n",
       "      <td>201410</td>\n",
       "      <td>645523.02</td>\n",
       "    </tr>\n",
       "    <tr>\n",
       "      <th>6</th>\n",
       "      <td>201411</td>\n",
       "      <td>679910.47</td>\n",
       "    </tr>\n",
       "    <tr>\n",
       "      <th>7</th>\n",
       "      <td>201412</td>\n",
       "      <td>728341.19</td>\n",
       "    </tr>\n",
       "    <tr>\n",
       "      <th>8</th>\n",
       "      <td>201501</td>\n",
       "      <td>672923.17</td>\n",
       "    </tr>\n",
       "    <tr>\n",
       "      <th>9</th>\n",
       "      <td>201502</td>\n",
       "      <td>696714.42</td>\n",
       "    </tr>\n",
       "    <tr>\n",
       "      <th>10</th>\n",
       "      <td>201503</td>\n",
       "      <td>768495.10</td>\n",
       "    </tr>\n",
       "    <tr>\n",
       "      <th>11</th>\n",
       "      <td>201504</td>\n",
       "      <td>709751.99</td>\n",
       "    </tr>\n",
       "    <tr>\n",
       "      <th>12</th>\n",
       "      <td>201505</td>\n",
       "      <td>686351.95</td>\n",
       "    </tr>\n",
       "  </tbody>\n",
       "</table>\n",
       "</div>"
      ],
      "text/plain": [
       "    year_month  mean_price\n",
       "0       201405   690080.71\n",
       "1       201406   775057.56\n",
       "2       201407   741405.04\n",
       "3       201408   737576.56\n",
       "4       201409   645246.89\n",
       "5       201410   645523.02\n",
       "6       201411   679910.47\n",
       "7       201412   728341.19\n",
       "8       201501   672923.17\n",
       "9       201502   696714.42\n",
       "10      201503   768495.10\n",
       "11      201504   709751.99\n",
       "12      201505   686351.95"
      ]
     },
     "execution_count": 85,
     "metadata": {},
     "output_type": "execute_result"
    }
   ],
   "source": [
    "#Agrupando os valores pelo 'year_month', para tirar a média.\n",
    "df_hp5 = df_hp5 [['price','year_month']].groupby ('year_month').mean().reset_index()\n",
    "df_hp5.columns = ['year_month','mean_price']\n",
    "df_hp5"
   ]
  },
  {
   "cell_type": "code",
   "execution_count": 86,
   "id": "3bf49d93",
   "metadata": {
    "ExecuteTime": {
     "end_time": "2022-08-18T01:40:25.097540Z",
     "start_time": "2022-08-18T01:40:25.083579Z"
    }
   },
   "outputs": [
    {
     "data": {
      "text/html": [
       "<div>\n",
       "<style scoped>\n",
       "    .dataframe tbody tr th:only-of-type {\n",
       "        vertical-align: middle;\n",
       "    }\n",
       "\n",
       "    .dataframe tbody tr th {\n",
       "        vertical-align: top;\n",
       "    }\n",
       "\n",
       "    .dataframe thead th {\n",
       "        text-align: right;\n",
       "    }\n",
       "</style>\n",
       "<table border=\"1\" class=\"dataframe\">\n",
       "  <thead>\n",
       "    <tr style=\"text-align: right;\">\n",
       "      <th></th>\n",
       "      <th>year_month</th>\n",
       "      <th>mean_price</th>\n",
       "      <th>growth_MoM</th>\n",
       "    </tr>\n",
       "  </thead>\n",
       "  <tbody>\n",
       "    <tr>\n",
       "      <th>0</th>\n",
       "      <td>201405</td>\n",
       "      <td>690080.71</td>\n",
       "      <td>NaN</td>\n",
       "    </tr>\n",
       "    <tr>\n",
       "      <th>1</th>\n",
       "      <td>201406</td>\n",
       "      <td>775057.56</td>\n",
       "      <td>0.12</td>\n",
       "    </tr>\n",
       "    <tr>\n",
       "      <th>2</th>\n",
       "      <td>201407</td>\n",
       "      <td>741405.04</td>\n",
       "      <td>-0.04</td>\n",
       "    </tr>\n",
       "    <tr>\n",
       "      <th>3</th>\n",
       "      <td>201408</td>\n",
       "      <td>737576.56</td>\n",
       "      <td>-0.01</td>\n",
       "    </tr>\n",
       "    <tr>\n",
       "      <th>4</th>\n",
       "      <td>201409</td>\n",
       "      <td>645246.89</td>\n",
       "      <td>-0.13</td>\n",
       "    </tr>\n",
       "    <tr>\n",
       "      <th>5</th>\n",
       "      <td>201410</td>\n",
       "      <td>645523.02</td>\n",
       "      <td>0.00</td>\n",
       "    </tr>\n",
       "    <tr>\n",
       "      <th>6</th>\n",
       "      <td>201411</td>\n",
       "      <td>679910.47</td>\n",
       "      <td>0.05</td>\n",
       "    </tr>\n",
       "    <tr>\n",
       "      <th>7</th>\n",
       "      <td>201412</td>\n",
       "      <td>728341.19</td>\n",
       "      <td>0.07</td>\n",
       "    </tr>\n",
       "    <tr>\n",
       "      <th>8</th>\n",
       "      <td>201501</td>\n",
       "      <td>672923.17</td>\n",
       "      <td>-0.08</td>\n",
       "    </tr>\n",
       "    <tr>\n",
       "      <th>9</th>\n",
       "      <td>201502</td>\n",
       "      <td>696714.42</td>\n",
       "      <td>0.04</td>\n",
       "    </tr>\n",
       "    <tr>\n",
       "      <th>10</th>\n",
       "      <td>201503</td>\n",
       "      <td>768495.10</td>\n",
       "      <td>0.10</td>\n",
       "    </tr>\n",
       "    <tr>\n",
       "      <th>11</th>\n",
       "      <td>201504</td>\n",
       "      <td>709751.99</td>\n",
       "      <td>-0.08</td>\n",
       "    </tr>\n",
       "    <tr>\n",
       "      <th>12</th>\n",
       "      <td>201505</td>\n",
       "      <td>686351.95</td>\n",
       "      <td>-0.03</td>\n",
       "    </tr>\n",
       "  </tbody>\n",
       "</table>\n",
       "</div>"
      ],
      "text/plain": [
       "    year_month  mean_price  growth_MoM\n",
       "0       201405   690080.71         NaN\n",
       "1       201406   775057.56        0.12\n",
       "2       201407   741405.04       -0.04\n",
       "3       201408   737576.56       -0.01\n",
       "4       201409   645246.89       -0.13\n",
       "5       201410   645523.02        0.00\n",
       "6       201411   679910.47        0.05\n",
       "7       201412   728341.19        0.07\n",
       "8       201501   672923.17       -0.08\n",
       "9       201502   696714.42        0.04\n",
       "10      201503   768495.10        0.10\n",
       "11      201504   709751.99       -0.08\n",
       "12      201505   686351.95       -0.03"
      ]
     },
     "execution_count": 86,
     "metadata": {},
     "output_type": "execute_result"
    }
   ],
   "source": [
    "df_hp5 ['growth_MoM'] = df_hp5 ['mean_price'].pct_change()\n",
    "df_hp5"
   ]
  },
  {
   "cell_type": "code",
   "execution_count": 150,
   "id": "704bddad",
   "metadata": {
    "ExecuteTime": {
     "end_time": "2022-08-21T21:06:01.806763Z",
     "start_time": "2022-08-21T21:06:01.596163Z"
    }
   },
   "outputs": [
    {
     "data": {
      "image/png": "[encoded data removed]",
      "text/plain": [
       "<Figure size 720x360 with 1 Axes>"
      ]
     },
     "metadata": {
      "needs_background": "light"
     },
     "output_type": "display_data"
    }
   ],
   "source": [
    "plt.figure (figsize= (10,5))\n",
    "sns.barplot (data= df_hp5, x='year_month',y='growth_MoM');\n",
    "plt.xlabel ('Ano e Mês', fontsize = 12.0, weight = 'bold');\n",
    "plt.ylabel ('Variação (%)', fontsize = 12.0, weight = 'bold');\n",
    "plt.title ('HIPÓTESE 5', weight= 'bold');"
   ]
  },
  {
   "cell_type": "markdown",
   "id": "e86810d6",
   "metadata": {},
   "source": [
    "### Validação de hipótese\n",
    " * HP5 é FALSA, observa-se no gráfico acima que a variação em %, mês a mês, não atingiu os 15%, havendo variação positiva e negativa entre os meses, mas nenhuma chegou ao pressuposto na hipótese levantada."
   ]
  },
  {
   "cell_type": "markdown",
   "id": "b6e0020a",
   "metadata": {},
   "source": [
    "# 5. Questões de negócio\n",
    "### 5.1 Quais são os imóveis que a House Rocket deveria comprar e por qual preço?\n",
    "\n",
    "\n"
   ]
  },
  {
   "cell_type": "markdown",
   "id": "295e874d",
   "metadata": {},
   "source": [
    " * <b>Plano de execução:</b>\n",
    "\n",
    "    Agrupar os imóveis por região (zipcode).\n",
    "    \n",
    "    Dentro de cada região, detectar a mediana do preço do imóvel.\n",
    "    \n",
    "    É sugerido que os imóveis abaixo do preço mediano da região e que estejam em boas condições sejam comprados.\n",
    " "
   ]
  },
  {
   "cell_type": "code",
   "execution_count": 88,
   "id": "24df3ec0",
   "metadata": {
    "ExecuteTime": {
     "end_time": "2022-08-18T01:40:25.347903Z",
     "start_time": "2022-08-18T01:40:25.272167Z"
    }
   },
   "outputs": [
    {
     "data": {
      "text/html": [
       "<div>\n",
       "<style scoped>\n",
       "    .dataframe tbody tr th:only-of-type {\n",
       "        vertical-align: middle;\n",
       "    }\n",
       "\n",
       "    .dataframe tbody tr th {\n",
       "        vertical-align: top;\n",
       "    }\n",
       "\n",
       "    .dataframe thead th {\n",
       "        text-align: right;\n",
       "    }\n",
       "</style>\n",
       "<table border=\"1\" class=\"dataframe\">\n",
       "  <thead>\n",
       "    <tr style=\"text-align: right;\">\n",
       "      <th></th>\n",
       "      <th>id</th>\n",
       "      <th>date</th>\n",
       "      <th>price</th>\n",
       "      <th>bedrooms</th>\n",
       "      <th>bathrooms</th>\n",
       "      <th>sqft_living</th>\n",
       "      <th>sqft_lot</th>\n",
       "      <th>floors</th>\n",
       "      <th>waterfront</th>\n",
       "      <th>view</th>\n",
       "      <th>...</th>\n",
       "      <th>grade</th>\n",
       "      <th>sqft_above</th>\n",
       "      <th>sqft_basement</th>\n",
       "      <th>yr_built</th>\n",
       "      <th>yr_renovated</th>\n",
       "      <th>zipcode</th>\n",
       "      <th>lat</th>\n",
       "      <th>long</th>\n",
       "      <th>sqft_living15</th>\n",
       "      <th>sqft_lot15</th>\n",
       "    </tr>\n",
       "  </thead>\n",
       "  <tbody>\n",
       "    <tr>\n",
       "      <th>0</th>\n",
       "      <td>7129300520</td>\n",
       "      <td>2014-10-13</td>\n",
       "      <td>221900.00</td>\n",
       "      <td>3</td>\n",
       "      <td>1.00</td>\n",
       "      <td>1180</td>\n",
       "      <td>5650</td>\n",
       "      <td>1.00</td>\n",
       "      <td>0</td>\n",
       "      <td>0</td>\n",
       "      <td>...</td>\n",
       "      <td>7</td>\n",
       "      <td>1180</td>\n",
       "      <td>0</td>\n",
       "      <td>1955</td>\n",
       "      <td>0</td>\n",
       "      <td>98178</td>\n",
       "      <td>47.51</td>\n",
       "      <td>-122.26</td>\n",
       "      <td>1340</td>\n",
       "      <td>5650</td>\n",
       "    </tr>\n",
       "    <tr>\n",
       "      <th>1</th>\n",
       "      <td>6414100192</td>\n",
       "      <td>2014-12-09</td>\n",
       "      <td>538000.00</td>\n",
       "      <td>3</td>\n",
       "      <td>2.25</td>\n",
       "      <td>2570</td>\n",
       "      <td>7242</td>\n",
       "      <td>2.00</td>\n",
       "      <td>0</td>\n",
       "      <td>0</td>\n",
       "      <td>...</td>\n",
       "      <td>7</td>\n",
       "      <td>2170</td>\n",
       "      <td>400</td>\n",
       "      <td>1951</td>\n",
       "      <td>1991</td>\n",
       "      <td>98125</td>\n",
       "      <td>47.72</td>\n",
       "      <td>-122.32</td>\n",
       "      <td>1690</td>\n",
       "      <td>7639</td>\n",
       "    </tr>\n",
       "    <tr>\n",
       "      <th>2</th>\n",
       "      <td>5631500400</td>\n",
       "      <td>2015-02-25</td>\n",
       "      <td>180000.00</td>\n",
       "      <td>2</td>\n",
       "      <td>1.00</td>\n",
       "      <td>770</td>\n",
       "      <td>10000</td>\n",
       "      <td>1.00</td>\n",
       "      <td>0</td>\n",
       "      <td>0</td>\n",
       "      <td>...</td>\n",
       "      <td>6</td>\n",
       "      <td>770</td>\n",
       "      <td>0</td>\n",
       "      <td>1933</td>\n",
       "      <td>0</td>\n",
       "      <td>98028</td>\n",
       "      <td>47.74</td>\n",
       "      <td>-122.23</td>\n",
       "      <td>2720</td>\n",
       "      <td>8062</td>\n",
       "    </tr>\n",
       "    <tr>\n",
       "      <th>3</th>\n",
       "      <td>2487200875</td>\n",
       "      <td>2014-12-09</td>\n",
       "      <td>604000.00</td>\n",
       "      <td>4</td>\n",
       "      <td>3.00</td>\n",
       "      <td>1960</td>\n",
       "      <td>5000</td>\n",
       "      <td>1.00</td>\n",
       "      <td>0</td>\n",
       "      <td>0</td>\n",
       "      <td>...</td>\n",
       "      <td>7</td>\n",
       "      <td>1050</td>\n",
       "      <td>910</td>\n",
       "      <td>1965</td>\n",
       "      <td>0</td>\n",
       "      <td>98136</td>\n",
       "      <td>47.52</td>\n",
       "      <td>-122.39</td>\n",
       "      <td>1360</td>\n",
       "      <td>5000</td>\n",
       "    </tr>\n",
       "    <tr>\n",
       "      <th>4</th>\n",
       "      <td>1954400510</td>\n",
       "      <td>2015-02-18</td>\n",
       "      <td>510000.00</td>\n",
       "      <td>3</td>\n",
       "      <td>2.00</td>\n",
       "      <td>1680</td>\n",
       "      <td>8080</td>\n",
       "      <td>1.00</td>\n",
       "      <td>0</td>\n",
       "      <td>0</td>\n",
       "      <td>...</td>\n",
       "      <td>8</td>\n",
       "      <td>1680</td>\n",
       "      <td>0</td>\n",
       "      <td>1987</td>\n",
       "      <td>0</td>\n",
       "      <td>98074</td>\n",
       "      <td>47.62</td>\n",
       "      <td>-122.05</td>\n",
       "      <td>1800</td>\n",
       "      <td>7503</td>\n",
       "    </tr>\n",
       "  </tbody>\n",
       "</table>\n",
       "<p>5 rows × 21 columns</p>\n",
       "</div>"
      ],
      "text/plain": [
       "           id       date     price  bedrooms  bathrooms  sqft_living  \\\n",
       "0  7129300520 2014-10-13 221900.00         3       1.00         1180   \n",
       "1  6414100192 2014-12-09 538000.00         3       2.25         2570   \n",
       "2  5631500400 2015-02-25 180000.00         2       1.00          770   \n",
       "3  2487200875 2014-12-09 604000.00         4       3.00         1960   \n",
       "4  1954400510 2015-02-18 510000.00         3       2.00         1680   \n",
       "\n",
       "   sqft_lot  floors  waterfront  view  ...  grade  sqft_above  sqft_basement  \\\n",
       "0      5650    1.00           0     0  ...      7        1180              0   \n",
       "1      7242    2.00           0     0  ...      7        2170            400   \n",
       "2     10000    1.00           0     0  ...      6         770              0   \n",
       "3      5000    1.00           0     0  ...      7        1050            910   \n",
       "4      8080    1.00           0     0  ...      8        1680              0   \n",
       "\n",
       "   yr_built  yr_renovated  zipcode   lat    long  sqft_living15  sqft_lot15  \n",
       "0      1955             0    98178 47.51 -122.26           1340        5650  \n",
       "1      1951          1991    98125 47.72 -122.32           1690        7639  \n",
       "2      1933             0    98028 47.74 -122.23           2720        8062  \n",
       "3      1965             0    98136 47.52 -122.39           1360        5000  \n",
       "4      1987             0    98074 47.62 -122.05           1800        7503  \n",
       "\n",
       "[5 rows x 21 columns]"
      ]
     },
     "execution_count": 88,
     "metadata": {},
     "output_type": "execute_result"
    }
   ],
   "source": [
    "#Carregando os dados novamente\n",
    "dt = pd.read_csv ('kc_house_data.csv')\n",
    "dt['date'] = pd.to_datetime(data['date'])\n",
    "dt.head()"
   ]
  },
  {
   "cell_type": "code",
   "execution_count": 89,
   "id": "99cf8cc1",
   "metadata": {
    "ExecuteTime": {
     "end_time": "2022-08-18T01:40:25.378790Z",
     "start_time": "2022-08-18T01:40:25.350354Z"
    },
    "scrolled": true
   },
   "outputs": [
    {
     "data": {
      "text/html": [
       "<div>\n",
       "<style scoped>\n",
       "    .dataframe tbody tr th:only-of-type {\n",
       "        vertical-align: middle;\n",
       "    }\n",
       "\n",
       "    .dataframe tbody tr th {\n",
       "        vertical-align: top;\n",
       "    }\n",
       "\n",
       "    .dataframe thead th {\n",
       "        text-align: right;\n",
       "    }\n",
       "</style>\n",
       "<table border=\"1\" class=\"dataframe\">\n",
       "  <thead>\n",
       "    <tr style=\"text-align: right;\">\n",
       "      <th></th>\n",
       "      <th>zipcode</th>\n",
       "      <th>median_price_zip</th>\n",
       "    </tr>\n",
       "  </thead>\n",
       "  <tbody>\n",
       "    <tr>\n",
       "      <th>0</th>\n",
       "      <td>98001</td>\n",
       "      <td>260000.00</td>\n",
       "    </tr>\n",
       "    <tr>\n",
       "      <th>1</th>\n",
       "      <td>98002</td>\n",
       "      <td>235000.00</td>\n",
       "    </tr>\n",
       "    <tr>\n",
       "      <th>2</th>\n",
       "      <td>98003</td>\n",
       "      <td>267475.00</td>\n",
       "    </tr>\n",
       "    <tr>\n",
       "      <th>3</th>\n",
       "      <td>98004</td>\n",
       "      <td>1150000.00</td>\n",
       "    </tr>\n",
       "    <tr>\n",
       "      <th>4</th>\n",
       "      <td>98005</td>\n",
       "      <td>765475.00</td>\n",
       "    </tr>\n",
       "  </tbody>\n",
       "</table>\n",
       "</div>"
      ],
      "text/plain": [
       "   zipcode  median_price_zip\n",
       "0    98001         260000.00\n",
       "1    98002         235000.00\n",
       "2    98003         267475.00\n",
       "3    98004        1150000.00\n",
       "4    98005         765475.00"
      ]
     },
     "execution_count": 89,
     "metadata": {},
     "output_type": "execute_result"
    }
   ],
   "source": [
    "#Criando uma nova coluna, agrupando os valores por zipcode e extraindo o valor mediano.\n",
    "median_price = df [['zipcode','price']].groupby ('zipcode').median().reset_index()\n",
    "median_price.columns = ['zipcode','median_price_zip']\n",
    "median_price.head()"
   ]
  },
  {
   "cell_type": "code",
   "execution_count": 90,
   "id": "8ec77ce8",
   "metadata": {
    "ExecuteTime": {
     "end_time": "2022-08-18T01:40:25.409721Z",
     "start_time": "2022-08-18T01:40:25.381782Z"
    }
   },
   "outputs": [
    {
     "data": {
      "text/html": [
       "<div>\n",
       "<style scoped>\n",
       "    .dataframe tbody tr th:only-of-type {\n",
       "        vertical-align: middle;\n",
       "    }\n",
       "\n",
       "    .dataframe tbody tr th {\n",
       "        vertical-align: top;\n",
       "    }\n",
       "\n",
       "    .dataframe thead th {\n",
       "        text-align: right;\n",
       "    }\n",
       "</style>\n",
       "<table border=\"1\" class=\"dataframe\">\n",
       "  <thead>\n",
       "    <tr style=\"text-align: right;\">\n",
       "      <th></th>\n",
       "      <th>id</th>\n",
       "      <th>date</th>\n",
       "      <th>price</th>\n",
       "      <th>bedrooms</th>\n",
       "      <th>bathrooms</th>\n",
       "      <th>sqft_living</th>\n",
       "      <th>sqft_lot</th>\n",
       "      <th>floors</th>\n",
       "      <th>waterfront</th>\n",
       "      <th>view</th>\n",
       "      <th>...</th>\n",
       "      <th>sqft_above</th>\n",
       "      <th>sqft_basement</th>\n",
       "      <th>yr_built</th>\n",
       "      <th>yr_renovated</th>\n",
       "      <th>zipcode</th>\n",
       "      <th>lat</th>\n",
       "      <th>long</th>\n",
       "      <th>sqft_living15</th>\n",
       "      <th>sqft_lot15</th>\n",
       "      <th>median_price_zip</th>\n",
       "    </tr>\n",
       "  </thead>\n",
       "  <tbody>\n",
       "    <tr>\n",
       "      <th>0</th>\n",
       "      <td>7129300520</td>\n",
       "      <td>2014-10-13</td>\n",
       "      <td>221900.00</td>\n",
       "      <td>3</td>\n",
       "      <td>1.00</td>\n",
       "      <td>1180</td>\n",
       "      <td>5650</td>\n",
       "      <td>1.00</td>\n",
       "      <td>0</td>\n",
       "      <td>0</td>\n",
       "      <td>...</td>\n",
       "      <td>1180</td>\n",
       "      <td>0</td>\n",
       "      <td>1955</td>\n",
       "      <td>0</td>\n",
       "      <td>98178</td>\n",
       "      <td>47.51</td>\n",
       "      <td>-122.26</td>\n",
       "      <td>1340</td>\n",
       "      <td>5650</td>\n",
       "      <td>278277.00</td>\n",
       "    </tr>\n",
       "    <tr>\n",
       "      <th>1</th>\n",
       "      <td>4060000240</td>\n",
       "      <td>2014-06-23</td>\n",
       "      <td>205425.00</td>\n",
       "      <td>2</td>\n",
       "      <td>1.00</td>\n",
       "      <td>880</td>\n",
       "      <td>6780</td>\n",
       "      <td>1.00</td>\n",
       "      <td>0</td>\n",
       "      <td>0</td>\n",
       "      <td>...</td>\n",
       "      <td>880</td>\n",
       "      <td>0</td>\n",
       "      <td>1945</td>\n",
       "      <td>0</td>\n",
       "      <td>98178</td>\n",
       "      <td>47.50</td>\n",
       "      <td>-122.25</td>\n",
       "      <td>1190</td>\n",
       "      <td>6780</td>\n",
       "      <td>278277.00</td>\n",
       "    </tr>\n",
       "    <tr>\n",
       "      <th>2</th>\n",
       "      <td>4058801670</td>\n",
       "      <td>2014-07-17</td>\n",
       "      <td>445000.00</td>\n",
       "      <td>3</td>\n",
       "      <td>2.25</td>\n",
       "      <td>2100</td>\n",
       "      <td>8201</td>\n",
       "      <td>1.00</td>\n",
       "      <td>0</td>\n",
       "      <td>2</td>\n",
       "      <td>...</td>\n",
       "      <td>1620</td>\n",
       "      <td>480</td>\n",
       "      <td>1967</td>\n",
       "      <td>0</td>\n",
       "      <td>98178</td>\n",
       "      <td>47.51</td>\n",
       "      <td>-122.24</td>\n",
       "      <td>2660</td>\n",
       "      <td>8712</td>\n",
       "      <td>278277.00</td>\n",
       "    </tr>\n",
       "    <tr>\n",
       "      <th>3</th>\n",
       "      <td>2976800796</td>\n",
       "      <td>2014-09-25</td>\n",
       "      <td>236000.00</td>\n",
       "      <td>3</td>\n",
       "      <td>1.00</td>\n",
       "      <td>1300</td>\n",
       "      <td>5898</td>\n",
       "      <td>1.00</td>\n",
       "      <td>0</td>\n",
       "      <td>0</td>\n",
       "      <td>...</td>\n",
       "      <td>1300</td>\n",
       "      <td>0</td>\n",
       "      <td>1961</td>\n",
       "      <td>0</td>\n",
       "      <td>98178</td>\n",
       "      <td>47.51</td>\n",
       "      <td>-122.25</td>\n",
       "      <td>1320</td>\n",
       "      <td>7619</td>\n",
       "      <td>278277.00</td>\n",
       "    </tr>\n",
       "    <tr>\n",
       "      <th>4</th>\n",
       "      <td>6874200960</td>\n",
       "      <td>2015-02-27</td>\n",
       "      <td>170000.00</td>\n",
       "      <td>2</td>\n",
       "      <td>1.00</td>\n",
       "      <td>860</td>\n",
       "      <td>5265</td>\n",
       "      <td>1.00</td>\n",
       "      <td>0</td>\n",
       "      <td>0</td>\n",
       "      <td>...</td>\n",
       "      <td>860</td>\n",
       "      <td>0</td>\n",
       "      <td>1931</td>\n",
       "      <td>0</td>\n",
       "      <td>98178</td>\n",
       "      <td>47.50</td>\n",
       "      <td>-122.27</td>\n",
       "      <td>1650</td>\n",
       "      <td>8775</td>\n",
       "      <td>278277.00</td>\n",
       "    </tr>\n",
       "  </tbody>\n",
       "</table>\n",
       "<p>5 rows × 22 columns</p>\n",
       "</div>"
      ],
      "text/plain": [
       "           id       date     price  bedrooms  bathrooms  sqft_living  \\\n",
       "0  7129300520 2014-10-13 221900.00         3       1.00         1180   \n",
       "1  4060000240 2014-06-23 205425.00         2       1.00          880   \n",
       "2  4058801670 2014-07-17 445000.00         3       2.25         2100   \n",
       "3  2976800796 2014-09-25 236000.00         3       1.00         1300   \n",
       "4  6874200960 2015-02-27 170000.00         2       1.00          860   \n",
       "\n",
       "   sqft_lot  floors  waterfront  view  ...  sqft_above  sqft_basement  \\\n",
       "0      5650    1.00           0     0  ...        1180              0   \n",
       "1      6780    1.00           0     0  ...         880              0   \n",
       "2      8201    1.00           0     2  ...        1620            480   \n",
       "3      5898    1.00           0     0  ...        1300              0   \n",
       "4      5265    1.00           0     0  ...         860              0   \n",
       "\n",
       "   yr_built  yr_renovated  zipcode   lat    long  sqft_living15  sqft_lot15  \\\n",
       "0      1955             0    98178 47.51 -122.26           1340        5650   \n",
       "1      1945             0    98178 47.50 -122.25           1190        6780   \n",
       "2      1967             0    98178 47.51 -122.24           2660        8712   \n",
       "3      1961             0    98178 47.51 -122.25           1320        7619   \n",
       "4      1931             0    98178 47.50 -122.27           1650        8775   \n",
       "\n",
       "   median_price_zip  \n",
       "0         278277.00  \n",
       "1         278277.00  \n",
       "2         278277.00  \n",
       "3         278277.00  \n",
       "4         278277.00  \n",
       "\n",
       "[5 rows x 22 columns]"
      ]
     },
     "execution_count": 90,
     "metadata": {},
     "output_type": "execute_result"
    }
   ],
   "source": [
    "#Unindo a nova coluna criada para o dataframe original.\n",
    "dt = pd.merge (dt, median_price, on='zipcode', how= 'inner')\n",
    "dt.head()"
   ]
  },
  {
   "cell_type": "code",
   "execution_count": 91,
   "id": "68d39a77",
   "metadata": {
    "ExecuteTime": {
     "end_time": "2022-08-18T01:40:25.425695Z",
     "start_time": "2022-08-18T01:40:25.412700Z"
    },
    "scrolled": true
   },
   "outputs": [
    {
     "data": {
      "text/plain": [
       "array([1, 2, 3, 4, 5], dtype=int64)"
      ]
     },
     "execution_count": 91,
     "metadata": {},
     "output_type": "execute_result"
    }
   ],
   "source": [
    "#Verificando os dados unicos da coluna 'condition'\n",
    "dt['condition'].sort_values().unique()"
   ]
  },
  {
   "cell_type": "markdown",
   "id": "a77e51af",
   "metadata": {},
   "source": [
    "* Sabendo que a variável 'condition' é classificada de 1 a 5, fica-se entendido que 1 é uma condição do imóvel muito ruim e 5 uma condição muito boa. Logo, consideraremos que imóveis com condição 3 ou superior, seja sugerida para a compra se estiver com o preço mediano abaixo da região (zipcode)."
   ]
  },
  {
   "cell_type": "code",
   "execution_count": 92,
   "id": "74e93703",
   "metadata": {
    "ExecuteTime": {
     "end_time": "2022-08-18T01:40:27.262776Z",
     "start_time": "2022-08-18T01:40:25.427657Z"
    }
   },
   "outputs": [],
   "source": [
    "#Percorrendo as linhas do meu dataframe condicionando-as, criando uma nova coluna e populando com as informações pertinentes.\n",
    "for i in range (len(dt)):\n",
    "    if (dt.loc[i,'price'] < dt.loc[i,'median_price_zip']) & (dt.loc[i,'condition'] >= 3 ):\n",
    "        dt.loc [i,'recommendation'] = 'buy'\n",
    "        \n",
    "    else:\n",
    "        dt.loc[i,'recommendation'] = 'not_buy'"
   ]
  },
  {
   "cell_type": "code",
   "execution_count": 93,
   "id": "fdcc87b8",
   "metadata": {
    "ExecuteTime": {
     "end_time": "2022-08-18T01:40:27.278521Z",
     "start_time": "2022-08-18T01:40:27.264570Z"
    }
   },
   "outputs": [
    {
     "data": {
      "text/plain": [
       "not_buy    11034\n",
       "buy        10579\n",
       "Name: recommendation, dtype: int64"
      ]
     },
     "execution_count": 93,
     "metadata": {},
     "output_type": "execute_result"
    }
   ],
   "source": [
    "#Verificando quantidade total de imóveis que são recomendados para a compra e quantos não são.\n",
    "dt['recommendation'].value_counts()"
   ]
  },
  {
   "cell_type": "code",
   "execution_count": 94,
   "id": "cea60625",
   "metadata": {
    "ExecuteTime": {
     "end_time": "2022-08-18T01:40:27.404185Z",
     "start_time": "2022-08-18T01:40:27.280531Z"
    }
   },
   "outputs": [
    {
     "data": {
      "text/html": [
       "<div>\n",
       "<style scoped>\n",
       "    .dataframe tbody tr th:only-of-type {\n",
       "        vertical-align: middle;\n",
       "    }\n",
       "\n",
       "    .dataframe tbody tr th {\n",
       "        vertical-align: top;\n",
       "    }\n",
       "\n",
       "    .dataframe thead th {\n",
       "        text-align: right;\n",
       "    }\n",
       "</style>\n",
       "<table border=\"1\" class=\"dataframe\">\n",
       "  <thead>\n",
       "    <tr style=\"text-align: right;\">\n",
       "      <th></th>\n",
       "      <th>id</th>\n",
       "      <th>zipcode</th>\n",
       "      <th>condition</th>\n",
       "      <th>price</th>\n",
       "      <th>median_price_zip</th>\n",
       "      <th>recommendation</th>\n",
       "      <th>price_savings</th>\n",
       "    </tr>\n",
       "  </thead>\n",
       "  <tbody>\n",
       "    <tr>\n",
       "      <th>0</th>\n",
       "      <td>7129300520</td>\n",
       "      <td>98178</td>\n",
       "      <td>3</td>\n",
       "      <td>221900.00</td>\n",
       "      <td>278277.00</td>\n",
       "      <td>buy</td>\n",
       "      <td>56377.00</td>\n",
       "    </tr>\n",
       "    <tr>\n",
       "      <th>1</th>\n",
       "      <td>4060000240</td>\n",
       "      <td>98178</td>\n",
       "      <td>4</td>\n",
       "      <td>205425.00</td>\n",
       "      <td>278277.00</td>\n",
       "      <td>buy</td>\n",
       "      <td>72852.00</td>\n",
       "    </tr>\n",
       "    <tr>\n",
       "      <th>2</th>\n",
       "      <td>4058801670</td>\n",
       "      <td>98178</td>\n",
       "      <td>3</td>\n",
       "      <td>445000.00</td>\n",
       "      <td>278277.00</td>\n",
       "      <td>not_buy</td>\n",
       "      <td>-166723.00</td>\n",
       "    </tr>\n",
       "    <tr>\n",
       "      <th>3</th>\n",
       "      <td>2976800796</td>\n",
       "      <td>98178</td>\n",
       "      <td>3</td>\n",
       "      <td>236000.00</td>\n",
       "      <td>278277.00</td>\n",
       "      <td>buy</td>\n",
       "      <td>42277.00</td>\n",
       "    </tr>\n",
       "    <tr>\n",
       "      <th>4</th>\n",
       "      <td>6874200960</td>\n",
       "      <td>98178</td>\n",
       "      <td>3</td>\n",
       "      <td>170000.00</td>\n",
       "      <td>278277.00</td>\n",
       "      <td>buy</td>\n",
       "      <td>108277.00</td>\n",
       "    </tr>\n",
       "    <tr>\n",
       "      <th>...</th>\n",
       "      <td>...</td>\n",
       "      <td>...</td>\n",
       "      <td>...</td>\n",
       "      <td>...</td>\n",
       "      <td>...</td>\n",
       "      <td>...</td>\n",
       "      <td>...</td>\n",
       "    </tr>\n",
       "    <tr>\n",
       "      <th>21608</th>\n",
       "      <td>2525049086</td>\n",
       "      <td>98039</td>\n",
       "      <td>4</td>\n",
       "      <td>2720000.00</td>\n",
       "      <td>1892500.00</td>\n",
       "      <td>not_buy</td>\n",
       "      <td>-827500.00</td>\n",
       "    </tr>\n",
       "    <tr>\n",
       "      <th>21609</th>\n",
       "      <td>2525049113</td>\n",
       "      <td>98039</td>\n",
       "      <td>4</td>\n",
       "      <td>1950000.00</td>\n",
       "      <td>1892500.00</td>\n",
       "      <td>not_buy</td>\n",
       "      <td>-57500.00</td>\n",
       "    </tr>\n",
       "    <tr>\n",
       "      <th>21610</th>\n",
       "      <td>3262300485</td>\n",
       "      <td>98039</td>\n",
       "      <td>3</td>\n",
       "      <td>2250000.00</td>\n",
       "      <td>1892500.00</td>\n",
       "      <td>not_buy</td>\n",
       "      <td>-357500.00</td>\n",
       "    </tr>\n",
       "    <tr>\n",
       "      <th>21611</th>\n",
       "      <td>6447300365</td>\n",
       "      <td>98039</td>\n",
       "      <td>3</td>\n",
       "      <td>2900000.00</td>\n",
       "      <td>1892500.00</td>\n",
       "      <td>not_buy</td>\n",
       "      <td>-1007500.00</td>\n",
       "    </tr>\n",
       "    <tr>\n",
       "      <th>21612</th>\n",
       "      <td>3262300818</td>\n",
       "      <td>98039</td>\n",
       "      <td>3</td>\n",
       "      <td>1865000.00</td>\n",
       "      <td>1892500.00</td>\n",
       "      <td>buy</td>\n",
       "      <td>27500.00</td>\n",
       "    </tr>\n",
       "  </tbody>\n",
       "</table>\n",
       "<p>21613 rows × 7 columns</p>\n",
       "</div>"
      ],
      "text/plain": [
       "               id  zipcode  condition      price  median_price_zip  \\\n",
       "0      7129300520    98178          3  221900.00         278277.00   \n",
       "1      4060000240    98178          4  205425.00         278277.00   \n",
       "2      4058801670    98178          3  445000.00         278277.00   \n",
       "3      2976800796    98178          3  236000.00         278277.00   \n",
       "4      6874200960    98178          3  170000.00         278277.00   \n",
       "...           ...      ...        ...        ...               ...   \n",
       "21608  2525049086    98039          4 2720000.00        1892500.00   \n",
       "21609  2525049113    98039          4 1950000.00        1892500.00   \n",
       "21610  3262300485    98039          3 2250000.00        1892500.00   \n",
       "21611  6447300365    98039          3 2900000.00        1892500.00   \n",
       "21612  3262300818    98039          3 1865000.00        1892500.00   \n",
       "\n",
       "      recommendation  price_savings  \n",
       "0                buy       56377.00  \n",
       "1                buy       72852.00  \n",
       "2            not_buy     -166723.00  \n",
       "3                buy       42277.00  \n",
       "4                buy      108277.00  \n",
       "...              ...            ...  \n",
       "21608        not_buy     -827500.00  \n",
       "21609        not_buy      -57500.00  \n",
       "21610        not_buy     -357500.00  \n",
       "21611        not_buy    -1007500.00  \n",
       "21612            buy       27500.00  \n",
       "\n",
       "[21613 rows x 7 columns]"
      ]
     },
     "execution_count": 94,
     "metadata": {},
     "output_type": "execute_result"
    }
   ],
   "source": [
    "#Selecionandos as colunas do dataframe pertinente para análise.\n",
    "dt_analyse = dt [['id','zipcode','condition','price','median_price_zip','recommendation']].copy()\n",
    "\n",
    "#Criando nova coluna para que indique o valor de economia no preço.\n",
    "dt_analyse ['price_savings'] = dt_analyse ['median_price_zip'] - dt_analyse['price']\n",
    "\n",
    "dt_analyse.to_csv('reports/recommendation_to_buy.csv')\n",
    "dt_analyse"
   ]
  },
  {
   "cell_type": "markdown",
   "id": "d4a3341a",
   "metadata": {},
   "source": [
    "* Considerando a compra dos imóveis recomendados, o quanto a empresa estaria ecomonomizando?    \n",
    "Para isso, vamos selecionar os imóveis que estão recomendados para a compra ('buy'), e calcular as somas dos valores."
   ]
  },
  {
   "cell_type": "code",
   "execution_count": 95,
   "id": "e1f80bb4",
   "metadata": {
    "ExecuteTime": {
     "end_time": "2022-08-18T01:40:27.420193Z",
     "start_time": "2022-08-18T01:40:27.407178Z"
    }
   },
   "outputs": [
    {
     "name": "stdout",
     "output_type": "stream",
     "text": [
      "Considerando que a empresa efetue a compra de todos os imóveis recomendados, tendo como base o valor mediano, a empresa tem um potencial para economizar em torno de US$ 1055901488.00 (25.79%).\n"
     ]
    }
   ],
   "source": [
    "only_buy = dt_analyse.loc[dt_analyse['recommendation'] == 'buy']\n",
    "total_savings = only_buy ['price_savings'].sum()\n",
    "total_price = only_buy ['price'].sum()\n",
    "percentage = total_savings / total_price *100\n",
    "print (f'Considerando que a empresa efetue a compra de todos os imóveis recomendados, tendo como base o valor mediano, a empresa tem um potencial para economizar em torno de US$ {total_savings:.2f} ({percentage:.2f}%).')"
   ]
  },
  {
   "cell_type": "markdown",
   "id": "7130e349",
   "metadata": {},
   "source": [
    "### 5.2 Uma vez a casa comprada, qual o melhor momento para vendê-las e por qual preço?"
   ]
  },
  {
   "cell_type": "markdown",
   "id": "514f2d2a",
   "metadata": {},
   "source": [
    " * <b>Plano de execução:</b>\n",
    "\n",
    "    Agrupar os imóveis recomendados para compra por região (zipcode) e por sazonalidade (estações do ano).\n",
    "    \n",
    "    Dentro de cada região e sazonalidade, calcular a mediana do preço.\n",
    "    \n",
    "    É sugerido que as condições de venda sejam da seguinte forma:\n",
    "    + Se o preço da compra for maior que a mediana da região + sazonalidade: O preço da venda será igual ao preço da compra + 10%.\n",
    "    + Se o preço da compra for menor que a mediana da região + sazonalidade. O preço da venda será igual ao preço da compra + 30%."
   ]
  },
  {
   "cell_type": "code",
   "execution_count": 96,
   "id": "0bdd5241",
   "metadata": {
    "ExecuteTime": {
     "end_time": "2022-08-18T01:40:27.451317Z",
     "start_time": "2022-08-18T01:40:27.422137Z"
    }
   },
   "outputs": [
    {
     "data": {
      "text/html": [
       "<div>\n",
       "<style scoped>\n",
       "    .dataframe tbody tr th:only-of-type {\n",
       "        vertical-align: middle;\n",
       "    }\n",
       "\n",
       "    .dataframe tbody tr th {\n",
       "        vertical-align: top;\n",
       "    }\n",
       "\n",
       "    .dataframe thead th {\n",
       "        text-align: right;\n",
       "    }\n",
       "</style>\n",
       "<table border=\"1\" class=\"dataframe\">\n",
       "  <thead>\n",
       "    <tr style=\"text-align: right;\">\n",
       "      <th></th>\n",
       "      <th>id</th>\n",
       "      <th>date</th>\n",
       "      <th>price</th>\n",
       "      <th>bedrooms</th>\n",
       "      <th>bathrooms</th>\n",
       "      <th>sqft_living</th>\n",
       "      <th>sqft_lot</th>\n",
       "      <th>floors</th>\n",
       "      <th>waterfront</th>\n",
       "      <th>view</th>\n",
       "      <th>...</th>\n",
       "      <th>sqft_basement</th>\n",
       "      <th>yr_built</th>\n",
       "      <th>yr_renovated</th>\n",
       "      <th>zipcode</th>\n",
       "      <th>lat</th>\n",
       "      <th>long</th>\n",
       "      <th>sqft_living15</th>\n",
       "      <th>sqft_lot15</th>\n",
       "      <th>median_price_zip</th>\n",
       "      <th>recommendation</th>\n",
       "    </tr>\n",
       "  </thead>\n",
       "  <tbody>\n",
       "    <tr>\n",
       "      <th>0</th>\n",
       "      <td>7129300520</td>\n",
       "      <td>2014-10-13</td>\n",
       "      <td>221900.00</td>\n",
       "      <td>3</td>\n",
       "      <td>1.00</td>\n",
       "      <td>1180</td>\n",
       "      <td>5650</td>\n",
       "      <td>1.00</td>\n",
       "      <td>0</td>\n",
       "      <td>0</td>\n",
       "      <td>...</td>\n",
       "      <td>0</td>\n",
       "      <td>1955</td>\n",
       "      <td>0</td>\n",
       "      <td>98178</td>\n",
       "      <td>47.51</td>\n",
       "      <td>-122.26</td>\n",
       "      <td>1340</td>\n",
       "      <td>5650</td>\n",
       "      <td>278277.00</td>\n",
       "      <td>buy</td>\n",
       "    </tr>\n",
       "    <tr>\n",
       "      <th>1</th>\n",
       "      <td>4060000240</td>\n",
       "      <td>2014-06-23</td>\n",
       "      <td>205425.00</td>\n",
       "      <td>2</td>\n",
       "      <td>1.00</td>\n",
       "      <td>880</td>\n",
       "      <td>6780</td>\n",
       "      <td>1.00</td>\n",
       "      <td>0</td>\n",
       "      <td>0</td>\n",
       "      <td>...</td>\n",
       "      <td>0</td>\n",
       "      <td>1945</td>\n",
       "      <td>0</td>\n",
       "      <td>98178</td>\n",
       "      <td>47.50</td>\n",
       "      <td>-122.25</td>\n",
       "      <td>1190</td>\n",
       "      <td>6780</td>\n",
       "      <td>278277.00</td>\n",
       "      <td>buy</td>\n",
       "    </tr>\n",
       "    <tr>\n",
       "      <th>3</th>\n",
       "      <td>2976800796</td>\n",
       "      <td>2014-09-25</td>\n",
       "      <td>236000.00</td>\n",
       "      <td>3</td>\n",
       "      <td>1.00</td>\n",
       "      <td>1300</td>\n",
       "      <td>5898</td>\n",
       "      <td>1.00</td>\n",
       "      <td>0</td>\n",
       "      <td>0</td>\n",
       "      <td>...</td>\n",
       "      <td>0</td>\n",
       "      <td>1961</td>\n",
       "      <td>0</td>\n",
       "      <td>98178</td>\n",
       "      <td>47.51</td>\n",
       "      <td>-122.25</td>\n",
       "      <td>1320</td>\n",
       "      <td>7619</td>\n",
       "      <td>278277.00</td>\n",
       "      <td>buy</td>\n",
       "    </tr>\n",
       "    <tr>\n",
       "      <th>4</th>\n",
       "      <td>6874200960</td>\n",
       "      <td>2015-02-27</td>\n",
       "      <td>170000.00</td>\n",
       "      <td>2</td>\n",
       "      <td>1.00</td>\n",
       "      <td>860</td>\n",
       "      <td>5265</td>\n",
       "      <td>1.00</td>\n",
       "      <td>0</td>\n",
       "      <td>0</td>\n",
       "      <td>...</td>\n",
       "      <td>0</td>\n",
       "      <td>1931</td>\n",
       "      <td>0</td>\n",
       "      <td>98178</td>\n",
       "      <td>47.50</td>\n",
       "      <td>-122.27</td>\n",
       "      <td>1650</td>\n",
       "      <td>8775</td>\n",
       "      <td>278277.00</td>\n",
       "      <td>buy</td>\n",
       "    </tr>\n",
       "    <tr>\n",
       "      <th>5</th>\n",
       "      <td>4268200055</td>\n",
       "      <td>2015-05-01</td>\n",
       "      <td>245000.00</td>\n",
       "      <td>3</td>\n",
       "      <td>1.75</td>\n",
       "      <td>1740</td>\n",
       "      <td>11547</td>\n",
       "      <td>1.00</td>\n",
       "      <td>0</td>\n",
       "      <td>0</td>\n",
       "      <td>...</td>\n",
       "      <td>0</td>\n",
       "      <td>1954</td>\n",
       "      <td>0</td>\n",
       "      <td>98178</td>\n",
       "      <td>47.49</td>\n",
       "      <td>-122.22</td>\n",
       "      <td>880</td>\n",
       "      <td>78408</td>\n",
       "      <td>278277.00</td>\n",
       "      <td>buy</td>\n",
       "    </tr>\n",
       "  </tbody>\n",
       "</table>\n",
       "<p>5 rows × 23 columns</p>\n",
       "</div>"
      ],
      "text/plain": [
       "           id       date     price  bedrooms  bathrooms  sqft_living  \\\n",
       "0  7129300520 2014-10-13 221900.00         3       1.00         1180   \n",
       "1  4060000240 2014-06-23 205425.00         2       1.00          880   \n",
       "3  2976800796 2014-09-25 236000.00         3       1.00         1300   \n",
       "4  6874200960 2015-02-27 170000.00         2       1.00          860   \n",
       "5  4268200055 2015-05-01 245000.00         3       1.75         1740   \n",
       "\n",
       "   sqft_lot  floors  waterfront  view  ...  sqft_basement  yr_built  \\\n",
       "0      5650    1.00           0     0  ...              0      1955   \n",
       "1      6780    1.00           0     0  ...              0      1945   \n",
       "3      5898    1.00           0     0  ...              0      1961   \n",
       "4      5265    1.00           0     0  ...              0      1931   \n",
       "5     11547    1.00           0     0  ...              0      1954   \n",
       "\n",
       "   yr_renovated  zipcode   lat    long  sqft_living15  sqft_lot15  \\\n",
       "0             0    98178 47.51 -122.26           1340        5650   \n",
       "1             0    98178 47.50 -122.25           1190        6780   \n",
       "3             0    98178 47.51 -122.25           1320        7619   \n",
       "4             0    98178 47.50 -122.27           1650        8775   \n",
       "5             0    98178 47.49 -122.22            880       78408   \n",
       "\n",
       "   median_price_zip  recommendation  \n",
       "0         278277.00             buy  \n",
       "1         278277.00             buy  \n",
       "3         278277.00             buy  \n",
       "4         278277.00             buy  \n",
       "5         278277.00             buy  \n",
       "\n",
       "[5 rows x 23 columns]"
      ]
     },
     "execution_count": 96,
     "metadata": {},
     "output_type": "execute_result"
    }
   ],
   "source": [
    "#Selecionando os imóveis recomendados para a compra e criando uma cópia.\n",
    "dt_analyse_2 = dt.loc [dt ['recommendation'] == 'buy'].copy()\n",
    "dt_analyse_2.head()"
   ]
  },
  {
   "cell_type": "markdown",
   "id": "4adee0b1",
   "metadata": {},
   "source": [
    " * A ideia de agrupar os imóveis por região e estação do ano em que foi anunciada, é para ser possível comparar os preços medianos da região e por sazonalidade.\n",
    "\n",
    "* A base de dados é de Washington - EUA, por tanto, as estações do ano ocorrem nas seguintes datas:\n",
    "\n",
    "    + Inverno: 21 de dezembro a 20 de março;\n",
    "    + Primavera: 21 de março a 20 de junho;\n",
    "    + Verão: 21 de junho a 22 de setembro;\n",
    "    + Outono: 23 de setembro a 20 de dezembro.\n",
    "    \n",
    "    \n",
    "* Para realizarmos as análises iremos precisar apenas dos meses, sendo assim:\n",
    "    + Inverno: jan a mar;\n",
    "    + Primavera: abr a jun;\n",
    "    + Verão: jul a set;\n",
    "    + Outono: out a dez."
   ]
  },
  {
   "cell_type": "code",
   "execution_count": 99,
   "id": "0eb4a6c4",
   "metadata": {
    "ExecuteTime": {
     "end_time": "2022-08-18T01:51:16.992342Z",
     "start_time": "2022-08-18T01:51:16.972397Z"
    }
   },
   "outputs": [
    {
     "ename": "ValueError",
     "evalue": "cannot insert month, already exists",
     "output_type": "error",
     "traceback": [
      "\u001b[1;31m---------------------------------------------------------------------------\u001b[0m",
      "\u001b[1;31mValueError\u001b[0m                                Traceback (most recent call last)",
      "\u001b[1;32m~\\AppData\\Local\\Temp/ipykernel_16332/3612754666.py\u001b[0m in \u001b[0;36m<module>\u001b[1;34m\u001b[0m\n\u001b[0;32m      1\u001b[0m \u001b[1;31m#Criando uma coluna nova apenas com o mês para auxiliar na análise.\u001b[0m\u001b[1;33m\u001b[0m\u001b[1;33m\u001b[0m\u001b[0m\n\u001b[1;32m----> 2\u001b[1;33m \u001b[0mdt_analyse_2\u001b[0m\u001b[1;33m.\u001b[0m\u001b[0minsert\u001b[0m \u001b[1;33m(\u001b[0m\u001b[1;36m3\u001b[0m\u001b[1;33m,\u001b[0m \u001b[1;34m'month'\u001b[0m\u001b[1;33m,\u001b[0m \u001b[0mdt_analyse_2\u001b[0m \u001b[1;33m[\u001b[0m\u001b[1;34m'date'\u001b[0m\u001b[1;33m]\u001b[0m\u001b[1;33m.\u001b[0m\u001b[0mdt\u001b[0m\u001b[1;33m.\u001b[0m\u001b[0mmonth\u001b[0m\u001b[1;33m)\u001b[0m\u001b[1;33m\u001b[0m\u001b[1;33m\u001b[0m\u001b[0m\n\u001b[0m",
      "\u001b[1;32m~\\anaconda3\\envs\\curso_ds\\lib\\site-packages\\pandas\\core\\frame.py\u001b[0m in \u001b[0;36minsert\u001b[1;34m(self, loc, column, value, allow_duplicates)\u001b[0m\n\u001b[0;32m   4432\u001b[0m         \u001b[1;32mif\u001b[0m \u001b[1;32mnot\u001b[0m \u001b[0mallow_duplicates\u001b[0m \u001b[1;32mand\u001b[0m \u001b[0mcolumn\u001b[0m \u001b[1;32min\u001b[0m \u001b[0mself\u001b[0m\u001b[1;33m.\u001b[0m\u001b[0mcolumns\u001b[0m\u001b[1;33m:\u001b[0m\u001b[1;33m\u001b[0m\u001b[1;33m\u001b[0m\u001b[0m\n\u001b[0;32m   4433\u001b[0m             \u001b[1;31m# Should this be a different kind of error??\u001b[0m\u001b[1;33m\u001b[0m\u001b[1;33m\u001b[0m\u001b[0m\n\u001b[1;32m-> 4434\u001b[1;33m             \u001b[1;32mraise\u001b[0m \u001b[0mValueError\u001b[0m\u001b[1;33m(\u001b[0m\u001b[1;34mf\"cannot insert {column}, already exists\"\u001b[0m\u001b[1;33m)\u001b[0m\u001b[1;33m\u001b[0m\u001b[1;33m\u001b[0m\u001b[0m\n\u001b[0m\u001b[0;32m   4435\u001b[0m         \u001b[1;32mif\u001b[0m \u001b[1;32mnot\u001b[0m \u001b[0misinstance\u001b[0m\u001b[1;33m(\u001b[0m\u001b[0mloc\u001b[0m\u001b[1;33m,\u001b[0m \u001b[0mint\u001b[0m\u001b[1;33m)\u001b[0m\u001b[1;33m:\u001b[0m\u001b[1;33m\u001b[0m\u001b[1;33m\u001b[0m\u001b[0m\n\u001b[0;32m   4436\u001b[0m             \u001b[1;32mraise\u001b[0m \u001b[0mTypeError\u001b[0m\u001b[1;33m(\u001b[0m\u001b[1;34m\"loc must be int\"\u001b[0m\u001b[1;33m)\u001b[0m\u001b[1;33m\u001b[0m\u001b[1;33m\u001b[0m\u001b[0m\n",
      "\u001b[1;31mValueError\u001b[0m: cannot insert month, already exists"
     ]
    }
   ],
   "source": [
    "#Criando uma coluna nova apenas com o mês para auxiliar na análise.\n",
    "dt_analyse_2.insert (3, 'month', dt_analyse_2 ['date'].dt.month)"
   ]
  },
  {
   "cell_type": "code",
   "execution_count": 103,
   "id": "a98a9870",
   "metadata": {
    "ExecuteTime": {
     "end_time": "2022-08-18T01:57:53.629898Z",
     "start_time": "2022-08-18T01:57:53.613246Z"
    }
   },
   "outputs": [],
   "source": [
    "#Criando uma nova coluna com a informação de estação do ano.\n",
    "dt_analyse_2 ['season'] = dt_analyse_2 ['month'].apply (lambda x: 'winter' if 1 <= x <= 3 else\n",
    "                                                                  'spring' if 4 <= x <= 6 else\n",
    "                                                                  'summer' if 7 <= x <= 9 else\n",
    "                                                                  'fall')"
   ]
  },
  {
   "cell_type": "code",
   "execution_count": 110,
   "id": "b0aa263e",
   "metadata": {
    "ExecuteTime": {
     "end_time": "2022-08-18T02:22:41.828283Z",
     "start_time": "2022-08-18T02:22:41.806310Z"
    }
   },
   "outputs": [
    {
     "data": {
      "text/html": [
       "<div>\n",
       "<style scoped>\n",
       "    .dataframe tbody tr th:only-of-type {\n",
       "        vertical-align: middle;\n",
       "    }\n",
       "\n",
       "    .dataframe tbody tr th {\n",
       "        vertical-align: top;\n",
       "    }\n",
       "\n",
       "    .dataframe thead th {\n",
       "        text-align: right;\n",
       "    }\n",
       "</style>\n",
       "<table border=\"1\" class=\"dataframe\">\n",
       "  <thead>\n",
       "    <tr style=\"text-align: right;\">\n",
       "      <th></th>\n",
       "      <th>zipcode</th>\n",
       "      <th>season</th>\n",
       "      <th>median_price_season</th>\n",
       "    </tr>\n",
       "  </thead>\n",
       "  <tbody>\n",
       "    <tr>\n",
       "      <th>0</th>\n",
       "      <td>98001</td>\n",
       "      <td>fall</td>\n",
       "      <td>220000.00</td>\n",
       "    </tr>\n",
       "    <tr>\n",
       "      <th>1</th>\n",
       "      <td>98001</td>\n",
       "      <td>spring</td>\n",
       "      <td>214100.00</td>\n",
       "    </tr>\n",
       "    <tr>\n",
       "      <th>2</th>\n",
       "      <td>98001</td>\n",
       "      <td>summer</td>\n",
       "      <td>214500.00</td>\n",
       "    </tr>\n",
       "    <tr>\n",
       "      <th>3</th>\n",
       "      <td>98001</td>\n",
       "      <td>winter</td>\n",
       "      <td>215500.00</td>\n",
       "    </tr>\n",
       "    <tr>\n",
       "      <th>4</th>\n",
       "      <td>98002</td>\n",
       "      <td>fall</td>\n",
       "      <td>192500.00</td>\n",
       "    </tr>\n",
       "    <tr>\n",
       "      <th>...</th>\n",
       "      <td>...</td>\n",
       "      <td>...</td>\n",
       "      <td>...</td>\n",
       "    </tr>\n",
       "    <tr>\n",
       "      <th>275</th>\n",
       "      <td>98198</td>\n",
       "      <td>winter</td>\n",
       "      <td>204500.00</td>\n",
       "    </tr>\n",
       "    <tr>\n",
       "      <th>276</th>\n",
       "      <td>98199</td>\n",
       "      <td>fall</td>\n",
       "      <td>525000.00</td>\n",
       "    </tr>\n",
       "    <tr>\n",
       "      <th>277</th>\n",
       "      <td>98199</td>\n",
       "      <td>spring</td>\n",
       "      <td>547000.00</td>\n",
       "    </tr>\n",
       "    <tr>\n",
       "      <th>278</th>\n",
       "      <td>98199</td>\n",
       "      <td>summer</td>\n",
       "      <td>514000.00</td>\n",
       "    </tr>\n",
       "    <tr>\n",
       "      <th>279</th>\n",
       "      <td>98199</td>\n",
       "      <td>winter</td>\n",
       "      <td>541150.00</td>\n",
       "    </tr>\n",
       "  </tbody>\n",
       "</table>\n",
       "<p>280 rows × 3 columns</p>\n",
       "</div>"
      ],
      "text/plain": [
       "     zipcode  season  median_price_season\n",
       "0      98001    fall            220000.00\n",
       "1      98001  spring            214100.00\n",
       "2      98001  summer            214500.00\n",
       "3      98001  winter            215500.00\n",
       "4      98002    fall            192500.00\n",
       "..       ...     ...                  ...\n",
       "275    98198  winter            204500.00\n",
       "276    98199    fall            525000.00\n",
       "277    98199  spring            547000.00\n",
       "278    98199  summer            514000.00\n",
       "279    98199  winter            541150.00\n",
       "\n",
       "[280 rows x 3 columns]"
      ]
     },
     "execution_count": 110,
     "metadata": {},
     "output_type": "execute_result"
    }
   ],
   "source": [
    "# Agrupando os preços medianos por região e estações do ano.\n",
    "median_season = dt_analyse_2[['price', 'zipcode', 'season']].groupby(['zipcode', 'season']).median().reset_index()\n",
    "\n",
    "#Renomeando a coluna price.\n",
    "median_season.rename ({'price': 'median_price_season'}, axis=1, inplace= True)\n",
    "\n",
    "median_season"
   ]
  },
  {
   "cell_type": "code",
   "execution_count": null,
   "id": "e8a70d6e",
   "metadata": {},
   "outputs": [],
   "source": [
    "#Unindo a nova coluna criada para o dataframe original.\n",
    "dt_analyse_2 = pd.merge (dt"
   ]
  },
  {
   "cell_type": "code",
   "execution_count": 113,
   "id": "0eeef2dc",
   "metadata": {
    "ExecuteTime": {
     "end_time": "2022-08-18T02:25:00.937466Z",
     "start_time": "2022-08-18T02:25:00.896109Z"
    }
   },
   "outputs": [
    {
     "data": {
      "text/html": [
       "<div>\n",
       "<style scoped>\n",
       "    .dataframe tbody tr th:only-of-type {\n",
       "        vertical-align: middle;\n",
       "    }\n",
       "\n",
       "    .dataframe tbody tr th {\n",
       "        vertical-align: top;\n",
       "    }\n",
       "\n",
       "    .dataframe thead th {\n",
       "        text-align: right;\n",
       "    }\n",
       "</style>\n",
       "<table border=\"1\" class=\"dataframe\">\n",
       "  <thead>\n",
       "    <tr style=\"text-align: right;\">\n",
       "      <th></th>\n",
       "      <th>id</th>\n",
       "      <th>date</th>\n",
       "      <th>price</th>\n",
       "      <th>month</th>\n",
       "      <th>bedrooms</th>\n",
       "      <th>bathrooms</th>\n",
       "      <th>sqft_living</th>\n",
       "      <th>sqft_lot</th>\n",
       "      <th>floors</th>\n",
       "      <th>waterfront</th>\n",
       "      <th>...</th>\n",
       "      <th>yr_renovated</th>\n",
       "      <th>zipcode</th>\n",
       "      <th>lat</th>\n",
       "      <th>long</th>\n",
       "      <th>sqft_living15</th>\n",
       "      <th>sqft_lot15</th>\n",
       "      <th>median_price_zip</th>\n",
       "      <th>recommendation</th>\n",
       "      <th>season</th>\n",
       "      <th>median_price_season</th>\n",
       "    </tr>\n",
       "  </thead>\n",
       "  <tbody>\n",
       "    <tr>\n",
       "      <th>0</th>\n",
       "      <td>7129300520</td>\n",
       "      <td>2014-10-13</td>\n",
       "      <td>221900.00</td>\n",
       "      <td>10</td>\n",
       "      <td>3</td>\n",
       "      <td>1.00</td>\n",
       "      <td>1180</td>\n",
       "      <td>5650</td>\n",
       "      <td>1.00</td>\n",
       "      <td>0</td>\n",
       "      <td>...</td>\n",
       "      <td>0</td>\n",
       "      <td>98178</td>\n",
       "      <td>47.51</td>\n",
       "      <td>-122.26</td>\n",
       "      <td>1340</td>\n",
       "      <td>5650</td>\n",
       "      <td>278277.00</td>\n",
       "      <td>buy</td>\n",
       "      <td>fall</td>\n",
       "      <td>221900.00</td>\n",
       "    </tr>\n",
       "    <tr>\n",
       "      <th>1</th>\n",
       "      <td>3969300030</td>\n",
       "      <td>2014-12-29</td>\n",
       "      <td>239900.00</td>\n",
       "      <td>12</td>\n",
       "      <td>4</td>\n",
       "      <td>1.00</td>\n",
       "      <td>1000</td>\n",
       "      <td>7134</td>\n",
       "      <td>1.00</td>\n",
       "      <td>0</td>\n",
       "      <td>...</td>\n",
       "      <td>0</td>\n",
       "      <td>98178</td>\n",
       "      <td>47.49</td>\n",
       "      <td>-122.24</td>\n",
       "      <td>1020</td>\n",
       "      <td>7138</td>\n",
       "      <td>278277.00</td>\n",
       "      <td>buy</td>\n",
       "      <td>fall</td>\n",
       "      <td>221900.00</td>\n",
       "    </tr>\n",
       "    <tr>\n",
       "      <th>2</th>\n",
       "      <td>561000075</td>\n",
       "      <td>2014-12-31</td>\n",
       "      <td>260000.00</td>\n",
       "      <td>12</td>\n",
       "      <td>3</td>\n",
       "      <td>1.00</td>\n",
       "      <td>1180</td>\n",
       "      <td>5350</td>\n",
       "      <td>1.50</td>\n",
       "      <td>0</td>\n",
       "      <td>...</td>\n",
       "      <td>0</td>\n",
       "      <td>98178</td>\n",
       "      <td>47.51</td>\n",
       "      <td>-122.26</td>\n",
       "      <td>1490</td>\n",
       "      <td>5350</td>\n",
       "      <td>278277.00</td>\n",
       "      <td>buy</td>\n",
       "      <td>fall</td>\n",
       "      <td>221900.00</td>\n",
       "    </tr>\n",
       "    <tr>\n",
       "      <th>3</th>\n",
       "      <td>3352402236</td>\n",
       "      <td>2014-12-15</td>\n",
       "      <td>252500.00</td>\n",
       "      <td>12</td>\n",
       "      <td>3</td>\n",
       "      <td>2.00</td>\n",
       "      <td>1150</td>\n",
       "      <td>6000</td>\n",
       "      <td>1.00</td>\n",
       "      <td>0</td>\n",
       "      <td>...</td>\n",
       "      <td>0</td>\n",
       "      <td>98178</td>\n",
       "      <td>47.50</td>\n",
       "      <td>-122.26</td>\n",
       "      <td>1980</td>\n",
       "      <td>6360</td>\n",
       "      <td>278277.00</td>\n",
       "      <td>buy</td>\n",
       "      <td>fall</td>\n",
       "      <td>221900.00</td>\n",
       "    </tr>\n",
       "    <tr>\n",
       "      <th>4</th>\n",
       "      <td>179000350</td>\n",
       "      <td>2014-11-05</td>\n",
       "      <td>194000.00</td>\n",
       "      <td>11</td>\n",
       "      <td>3</td>\n",
       "      <td>1.50</td>\n",
       "      <td>1010</td>\n",
       "      <td>5000</td>\n",
       "      <td>1.00</td>\n",
       "      <td>0</td>\n",
       "      <td>...</td>\n",
       "      <td>0</td>\n",
       "      <td>98178</td>\n",
       "      <td>47.49</td>\n",
       "      <td>-122.28</td>\n",
       "      <td>980</td>\n",
       "      <td>5000</td>\n",
       "      <td>278277.00</td>\n",
       "      <td>buy</td>\n",
       "      <td>fall</td>\n",
       "      <td>221900.00</td>\n",
       "    </tr>\n",
       "  </tbody>\n",
       "</table>\n",
       "<p>5 rows × 26 columns</p>\n",
       "</div>"
      ],
      "text/plain": [
       "           id       date     price  month  bedrooms  bathrooms  sqft_living  \\\n",
       "0  7129300520 2014-10-13 221900.00     10         3       1.00         1180   \n",
       "1  3969300030 2014-12-29 239900.00     12         4       1.00         1000   \n",
       "2   561000075 2014-12-31 260000.00     12         3       1.00         1180   \n",
       "3  3352402236 2014-12-15 252500.00     12         3       2.00         1150   \n",
       "4   179000350 2014-11-05 194000.00     11         3       1.50         1010   \n",
       "\n",
       "   sqft_lot  floors  waterfront  ...  yr_renovated  zipcode   lat    long  \\\n",
       "0      5650    1.00           0  ...             0    98178 47.51 -122.26   \n",
       "1      7134    1.00           0  ...             0    98178 47.49 -122.24   \n",
       "2      5350    1.50           0  ...             0    98178 47.51 -122.26   \n",
       "3      6000    1.00           0  ...             0    98178 47.50 -122.26   \n",
       "4      5000    1.00           0  ...             0    98178 47.49 -122.28   \n",
       "\n",
       "   sqft_living15  sqft_lot15  median_price_zip  recommendation  season  \\\n",
       "0           1340        5650         278277.00             buy    fall   \n",
       "1           1020        7138         278277.00             buy    fall   \n",
       "2           1490        5350         278277.00             buy    fall   \n",
       "3           1980        6360         278277.00             buy    fall   \n",
       "4            980        5000         278277.00             buy    fall   \n",
       "\n",
       "   median_price_season  \n",
       "0            221900.00  \n",
       "1            221900.00  \n",
       "2            221900.00  \n",
       "3            221900.00  \n",
       "4            221900.00  \n",
       "\n",
       "[5 rows x 26 columns]"
      ]
     },
     "execution_count": 113,
     "metadata": {},
     "output_type": "execute_result"
    }
   ],
   "source": [
    "#Unindo a nova coluna criada para o dataframe original.\n",
    "dt_analyse_2 = pd.merge (dt_analyse_2, median_season, on=['zipcode','season'], how= 'inner')\n",
    "dt_analyse_2.head()"
   ]
  },
  {
   "cell_type": "code",
   "execution_count": 114,
   "id": "0be32c62",
   "metadata": {
    "ExecuteTime": {
     "end_time": "2022-08-18T02:41:22.163984Z",
     "start_time": "2022-08-18T02:41:21.202305Z"
    }
   },
   "outputs": [],
   "source": [
    "#Criando a coluna contendo as informações de preço de venda conforme sugerido.\n",
    "for i in range (len(dt_analyse_2)):\n",
    "    if dt_analyse_2.loc [i, 'price'] > dt_analyse_2.loc[i,'median_price_season']:\n",
    "        dt_analyse_2.loc [i, 'sell_price'] = dt_analyse_2.loc[i,'price'] *1.1\n",
    "    \n",
    "    else:\n",
    "        dt_analyse_2.loc [i,'sell_price'] = dt_analyse_2.loc [i,'price']*1.3"
   ]
  },
  {
   "cell_type": "code",
   "execution_count": 117,
   "id": "a04a15c5",
   "metadata": {
    "ExecuteTime": {
     "end_time": "2022-08-18T02:48:20.978021Z",
     "start_time": "2022-08-18T02:48:20.953088Z"
    }
   },
   "outputs": [
    {
     "data": {
      "text/html": [
       "<div>\n",
       "<style scoped>\n",
       "    .dataframe tbody tr th:only-of-type {\n",
       "        vertical-align: middle;\n",
       "    }\n",
       "\n",
       "    .dataframe tbody tr th {\n",
       "        vertical-align: top;\n",
       "    }\n",
       "\n",
       "    .dataframe thead th {\n",
       "        text-align: right;\n",
       "    }\n",
       "</style>\n",
       "<table border=\"1\" class=\"dataframe\">\n",
       "  <thead>\n",
       "    <tr style=\"text-align: right;\">\n",
       "      <th></th>\n",
       "      <th>id</th>\n",
       "      <th>date</th>\n",
       "      <th>price</th>\n",
       "      <th>month</th>\n",
       "      <th>bedrooms</th>\n",
       "      <th>bathrooms</th>\n",
       "      <th>sqft_living</th>\n",
       "      <th>sqft_lot</th>\n",
       "      <th>floors</th>\n",
       "      <th>waterfront</th>\n",
       "      <th>...</th>\n",
       "      <th>lat</th>\n",
       "      <th>long</th>\n",
       "      <th>sqft_living15</th>\n",
       "      <th>sqft_lot15</th>\n",
       "      <th>median_price_zip</th>\n",
       "      <th>recommendation</th>\n",
       "      <th>season</th>\n",
       "      <th>median_price_season</th>\n",
       "      <th>sell_price</th>\n",
       "      <th>lucre</th>\n",
       "    </tr>\n",
       "  </thead>\n",
       "  <tbody>\n",
       "    <tr>\n",
       "      <th>0</th>\n",
       "      <td>7129300520</td>\n",
       "      <td>2014-10-13</td>\n",
       "      <td>221900.00</td>\n",
       "      <td>10</td>\n",
       "      <td>3</td>\n",
       "      <td>1.00</td>\n",
       "      <td>1180</td>\n",
       "      <td>5650</td>\n",
       "      <td>1.00</td>\n",
       "      <td>0</td>\n",
       "      <td>...</td>\n",
       "      <td>47.51</td>\n",
       "      <td>-122.26</td>\n",
       "      <td>1340</td>\n",
       "      <td>5650</td>\n",
       "      <td>278277.00</td>\n",
       "      <td>buy</td>\n",
       "      <td>fall</td>\n",
       "      <td>221900.00</td>\n",
       "      <td>288470.00</td>\n",
       "      <td>66570.00</td>\n",
       "    </tr>\n",
       "    <tr>\n",
       "      <th>1</th>\n",
       "      <td>3969300030</td>\n",
       "      <td>2014-12-29</td>\n",
       "      <td>239900.00</td>\n",
       "      <td>12</td>\n",
       "      <td>4</td>\n",
       "      <td>1.00</td>\n",
       "      <td>1000</td>\n",
       "      <td>7134</td>\n",
       "      <td>1.00</td>\n",
       "      <td>0</td>\n",
       "      <td>...</td>\n",
       "      <td>47.49</td>\n",
       "      <td>-122.24</td>\n",
       "      <td>1020</td>\n",
       "      <td>7138</td>\n",
       "      <td>278277.00</td>\n",
       "      <td>buy</td>\n",
       "      <td>fall</td>\n",
       "      <td>221900.00</td>\n",
       "      <td>263890.00</td>\n",
       "      <td>23990.00</td>\n",
       "    </tr>\n",
       "    <tr>\n",
       "      <th>2</th>\n",
       "      <td>561000075</td>\n",
       "      <td>2014-12-31</td>\n",
       "      <td>260000.00</td>\n",
       "      <td>12</td>\n",
       "      <td>3</td>\n",
       "      <td>1.00</td>\n",
       "      <td>1180</td>\n",
       "      <td>5350</td>\n",
       "      <td>1.50</td>\n",
       "      <td>0</td>\n",
       "      <td>...</td>\n",
       "      <td>47.51</td>\n",
       "      <td>-122.26</td>\n",
       "      <td>1490</td>\n",
       "      <td>5350</td>\n",
       "      <td>278277.00</td>\n",
       "      <td>buy</td>\n",
       "      <td>fall</td>\n",
       "      <td>221900.00</td>\n",
       "      <td>286000.00</td>\n",
       "      <td>26000.00</td>\n",
       "    </tr>\n",
       "    <tr>\n",
       "      <th>3</th>\n",
       "      <td>3352402236</td>\n",
       "      <td>2014-12-15</td>\n",
       "      <td>252500.00</td>\n",
       "      <td>12</td>\n",
       "      <td>3</td>\n",
       "      <td>2.00</td>\n",
       "      <td>1150</td>\n",
       "      <td>6000</td>\n",
       "      <td>1.00</td>\n",
       "      <td>0</td>\n",
       "      <td>...</td>\n",
       "      <td>47.50</td>\n",
       "      <td>-122.26</td>\n",
       "      <td>1980</td>\n",
       "      <td>6360</td>\n",
       "      <td>278277.00</td>\n",
       "      <td>buy</td>\n",
       "      <td>fall</td>\n",
       "      <td>221900.00</td>\n",
       "      <td>277750.00</td>\n",
       "      <td>25250.00</td>\n",
       "    </tr>\n",
       "    <tr>\n",
       "      <th>4</th>\n",
       "      <td>179000350</td>\n",
       "      <td>2014-11-05</td>\n",
       "      <td>194000.00</td>\n",
       "      <td>11</td>\n",
       "      <td>3</td>\n",
       "      <td>1.50</td>\n",
       "      <td>1010</td>\n",
       "      <td>5000</td>\n",
       "      <td>1.00</td>\n",
       "      <td>0</td>\n",
       "      <td>...</td>\n",
       "      <td>47.49</td>\n",
       "      <td>-122.28</td>\n",
       "      <td>980</td>\n",
       "      <td>5000</td>\n",
       "      <td>278277.00</td>\n",
       "      <td>buy</td>\n",
       "      <td>fall</td>\n",
       "      <td>221900.00</td>\n",
       "      <td>252200.00</td>\n",
       "      <td>58200.00</td>\n",
       "    </tr>\n",
       "  </tbody>\n",
       "</table>\n",
       "<p>5 rows × 28 columns</p>\n",
       "</div>"
      ],
      "text/plain": [
       "           id       date     price  month  bedrooms  bathrooms  sqft_living  \\\n",
       "0  7129300520 2014-10-13 221900.00     10         3       1.00         1180   \n",
       "1  3969300030 2014-12-29 239900.00     12         4       1.00         1000   \n",
       "2   561000075 2014-12-31 260000.00     12         3       1.00         1180   \n",
       "3  3352402236 2014-12-15 252500.00     12         3       2.00         1150   \n",
       "4   179000350 2014-11-05 194000.00     11         3       1.50         1010   \n",
       "\n",
       "   sqft_lot  floors  waterfront  ...   lat    long  sqft_living15  sqft_lot15  \\\n",
       "0      5650    1.00           0  ... 47.51 -122.26           1340        5650   \n",
       "1      7134    1.00           0  ... 47.49 -122.24           1020        7138   \n",
       "2      5350    1.50           0  ... 47.51 -122.26           1490        5350   \n",
       "3      6000    1.00           0  ... 47.50 -122.26           1980        6360   \n",
       "4      5000    1.00           0  ... 47.49 -122.28            980        5000   \n",
       "\n",
       "   median_price_zip  recommendation  season  median_price_season  sell_price  \\\n",
       "0         278277.00             buy    fall            221900.00   288470.00   \n",
       "1         278277.00             buy    fall            221900.00   263890.00   \n",
       "2         278277.00             buy    fall            221900.00   286000.00   \n",
       "3         278277.00             buy    fall            221900.00   277750.00   \n",
       "4         278277.00             buy    fall            221900.00   252200.00   \n",
       "\n",
       "     lucre  \n",
       "0 66570.00  \n",
       "1 23990.00  \n",
       "2 26000.00  \n",
       "3 25250.00  \n",
       "4 58200.00  \n",
       "\n",
       "[5 rows x 28 columns]"
      ]
     },
     "execution_count": 117,
     "metadata": {},
     "output_type": "execute_result"
    }
   ],
   "source": [
    "#Criando nova coluna com valor de lucro, considerando que os imóveis sejam vendidos pelo preço sugerido.\n",
    "dt_analyse_2['lucre'] = dt_analyse_2['sell_price'] - dt_analyse_2['price']\n",
    "dt_analyse_2.head()"
   ]
  },
  {
   "cell_type": "code",
   "execution_count": 134,
   "id": "a9e6b03d",
   "metadata": {
    "ExecuteTime": {
     "end_time": "2022-08-19T01:05:59.067092Z",
     "start_time": "2022-08-19T01:05:59.047327Z"
    },
    "scrolled": true
   },
   "outputs": [
    {
     "name": "stdout",
     "output_type": "stream",
     "text": [
      "A empresa tem um potencial de lucro, considerando a compra de todos os imóveis recomendados, e os vendendo com o preço sugerido, um montante de US$ 774596310.60, cerca de 528.56%.\n"
     ]
    }
   ],
   "source": [
    "# Verificando o lucro bruto estimado, considerando a compra e venda de todos os imóveis recomendados do dataset.\n",
    "total_lucre = dt_analyse_2 ['lucre'].sum()\n",
    "total_price = dt_analyse_2 ['price'].sum()\n",
    "percentage_of_lucre = total_price / total_lucre *100\n",
    "\n",
    "print (f'A empresa tem um potencial de lucro, considerando a compra de todos os imóveis recomendados, e os vendendo com o preço sugerido, um montante de US$ {total_lucre:.2f}, cerca de {percentage_of_lucre:.2f}%.')"
   ]
  },
  {
   "cell_type": "code",
   "execution_count": 144,
   "id": "565b4904",
   "metadata": {
    "ExecuteTime": {
     "end_time": "2022-08-19T01:36:36.220328Z",
     "start_time": "2022-08-19T01:36:36.054062Z"
    }
   },
   "outputs": [
    {
     "data": {
      "text/html": [
       "<div>\n",
       "<style scoped>\n",
       "    .dataframe tbody tr th:only-of-type {\n",
       "        vertical-align: middle;\n",
       "    }\n",
       "\n",
       "    .dataframe tbody tr th {\n",
       "        vertical-align: top;\n",
       "    }\n",
       "\n",
       "    .dataframe thead th {\n",
       "        text-align: right;\n",
       "    }\n",
       "</style>\n",
       "<table border=\"1\" class=\"dataframe\">\n",
       "  <thead>\n",
       "    <tr style=\"text-align: right;\">\n",
       "      <th></th>\n",
       "      <th>id</th>\n",
       "      <th>zipcode</th>\n",
       "      <th>season</th>\n",
       "      <th>price</th>\n",
       "      <th>median_price_season</th>\n",
       "      <th>sell_price</th>\n",
       "      <th>lucre</th>\n",
       "    </tr>\n",
       "  </thead>\n",
       "  <tbody>\n",
       "    <tr>\n",
       "      <th>0</th>\n",
       "      <td>7129300520</td>\n",
       "      <td>98178</td>\n",
       "      <td>fall</td>\n",
       "      <td>221900.00</td>\n",
       "      <td>221900.00</td>\n",
       "      <td>288470.00</td>\n",
       "      <td>66570.00</td>\n",
       "    </tr>\n",
       "    <tr>\n",
       "      <th>1</th>\n",
       "      <td>3969300030</td>\n",
       "      <td>98178</td>\n",
       "      <td>fall</td>\n",
       "      <td>239900.00</td>\n",
       "      <td>221900.00</td>\n",
       "      <td>263890.00</td>\n",
       "      <td>23990.00</td>\n",
       "    </tr>\n",
       "    <tr>\n",
       "      <th>2</th>\n",
       "      <td>561000075</td>\n",
       "      <td>98178</td>\n",
       "      <td>fall</td>\n",
       "      <td>260000.00</td>\n",
       "      <td>221900.00</td>\n",
       "      <td>286000.00</td>\n",
       "      <td>26000.00</td>\n",
       "    </tr>\n",
       "    <tr>\n",
       "      <th>3</th>\n",
       "      <td>3352402236</td>\n",
       "      <td>98178</td>\n",
       "      <td>fall</td>\n",
       "      <td>252500.00</td>\n",
       "      <td>221900.00</td>\n",
       "      <td>277750.00</td>\n",
       "      <td>25250.00</td>\n",
       "    </tr>\n",
       "    <tr>\n",
       "      <th>4</th>\n",
       "      <td>179000350</td>\n",
       "      <td>98178</td>\n",
       "      <td>fall</td>\n",
       "      <td>194000.00</td>\n",
       "      <td>221900.00</td>\n",
       "      <td>252200.00</td>\n",
       "      <td>58200.00</td>\n",
       "    </tr>\n",
       "  </tbody>\n",
       "</table>\n",
       "</div>"
      ],
      "text/plain": [
       "           id  zipcode season     price  median_price_season  sell_price  \\\n",
       "0  7129300520    98178   fall 221900.00            221900.00   288470.00   \n",
       "1  3969300030    98178   fall 239900.00            221900.00   263890.00   \n",
       "2   561000075    98178   fall 260000.00            221900.00   286000.00   \n",
       "3  3352402236    98178   fall 252500.00            221900.00   277750.00   \n",
       "4   179000350    98178   fall 194000.00            221900.00   252200.00   \n",
       "\n",
       "     lucre  \n",
       "0 66570.00  \n",
       "1 23990.00  \n",
       "2 26000.00  \n",
       "3 25250.00  \n",
       "4 58200.00  "
      ]
     },
     "execution_count": 144,
     "metadata": {},
     "output_type": "execute_result"
    }
   ],
   "source": [
    "#Gerando um relatório para o time de negócio com as informações pertinentes.\n",
    "report_1 = dt_analyse_2 [['id','zipcode','season','price','median_price_season','sell_price','lucre']].copy()\n",
    "report_1.to_csv ('reports/recommendation_to_sell.csv')\n",
    "report_1.head()"
   ]
  },
  {
   "cell_type": "code",
   "execution_count": null,
   "id": "124ed820",
   "metadata": {},
   "outputs": [],
   "source": [
    "#Selecionandos as colunas do dataframe pertinente para análise.\n",
    "dt_analyse = dt [['id','zipcode','condition','price','median_price_zip','recommendation']].copy()\n",
    "\n",
    "#Criando nova coluna para que indique o valor de economia no preço.\n",
    "dt_analyse ['price_savings'] = dt_analyse ['median_price_zip'] - dt_analyse['price']\n",
    "\n",
    "dt_analyse.to_csv('reports/recommendation_to_buy.csv')\n",
    "dt_analyse"
   ]
  },
  {
   "cell_type": "code",
   "execution_count": 140,
   "id": "4a37156a",
   "metadata": {
    "ExecuteTime": {
     "end_time": "2022-08-19T01:13:28.503213Z",
     "start_time": "2022-08-19T01:13:28.471508Z"
    }
   },
   "outputs": [
    {
     "data": {
      "text/html": [
       "<div>\n",
       "<style scoped>\n",
       "    .dataframe tbody tr th:only-of-type {\n",
       "        vertical-align: middle;\n",
       "    }\n",
       "\n",
       "    .dataframe tbody tr th {\n",
       "        vertical-align: top;\n",
       "    }\n",
       "\n",
       "    .dataframe thead th {\n",
       "        text-align: right;\n",
       "    }\n",
       "</style>\n",
       "<table border=\"1\" class=\"dataframe\">\n",
       "  <thead>\n",
       "    <tr style=\"text-align: right;\">\n",
       "      <th></th>\n",
       "      <th>season</th>\n",
       "      <th>price</th>\n",
       "    </tr>\n",
       "  </thead>\n",
       "  <tbody>\n",
       "    <tr>\n",
       "      <th>0</th>\n",
       "      <td>spring</td>\n",
       "      <td>397242.84</td>\n",
       "    </tr>\n",
       "    <tr>\n",
       "      <th>1</th>\n",
       "      <td>summer</td>\n",
       "      <td>390080.19</td>\n",
       "    </tr>\n",
       "    <tr>\n",
       "      <th>2</th>\n",
       "      <td>fall</td>\n",
       "      <td>379273.65</td>\n",
       "    </tr>\n",
       "    <tr>\n",
       "      <th>3</th>\n",
       "      <td>winter</td>\n",
       "      <td>375623.99</td>\n",
       "    </tr>\n",
       "  </tbody>\n",
       "</table>\n",
       "</div>"
      ],
      "text/plain": [
       "   season     price\n",
       "0  spring 397242.84\n",
       "1  summer 390080.19\n",
       "2    fall 379273.65\n",
       "3  winter 375623.99"
      ]
     },
     "execution_count": 140,
     "metadata": {},
     "output_type": "execute_result"
    }
   ],
   "source": [
    "#Para uma análise mais aprofundada, iremos tirar a média dos valores dos imóveis por estação do ano.\n",
    "dt_analyse_2 [['season','price']].groupby ('season').mean().sort_values ('price', ascending = False). reset_index()"
   ]
  },
  {
   "cell_type": "markdown",
   "id": "cefdd672",
   "metadata": {},
   "source": [
    "<b> Conforme visto cima, nota-se que em média, as casas anunciadas no inverno são mais baratas do que na primavera, portanto, a sugestão é que as compras dos imóveis devem acontecer no inverno onde são mais baratas, e anunciadas para venda na primavera quando são mais caras</b>"
   ]
  },
  {
   "cell_type": "code",
   "execution_count": null,
   "id": "26ef0533",
   "metadata": {},
   "outputs": [],
   "source": []
  }
 ],
 "metadata": {
  "kernelspec": {
   "display_name": "Python 3 (ipykernel)",
   "language": "python",
   "name": "python3"
  },
  "language_info": {
   "codemirror_mode": {
    "name": "ipython",
    "version": 3
   },
   "file_extension": ".py",
   "mimetype": "text/x-python",
   "name": "python",
   "nbconvert_exporter": "python",
   "pygments_lexer": "ipython3",
   "version": "3.9.7"
  }
 },
 "nbformat": 4,
 "nbformat_minor": 5
}
